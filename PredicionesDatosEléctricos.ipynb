{
  "nbformat": 4,
  "nbformat_minor": 0,
  "metadata": {
    "colab": {
      "provenance": [],
      "authorship_tag": "ABX9TyOJnQOMpjIvEYJp78IHblPo",
      "include_colab_link": true
    },
    "kernelspec": {
      "name": "python3",
      "display_name": "Python 3"
    },
    "language_info": {
      "name": "python"
    }
  },
  "cells": [
    {
      "cell_type": "markdown",
      "metadata": {
        "id": "view-in-github",
        "colab_type": "text"
      },
      "source": [
        "<a href=\"https://colab.research.google.com/github/gabyx7677/Proyectos/blob/main/PredicionesDatosEl%C3%A9ctricos.ipynb\" target=\"_parent\"><img src=\"https://colab.research.google.com/assets/colab-badge.svg\" alt=\"Open In Colab\"/></a>"
      ]
    },
    {
      "cell_type": "code",
      "execution_count": null,
      "metadata": {
        "id": "YNTEi9O_Ueit",
        "colab": {
          "base_uri": "https://localhost:8080/",
          "height": 485
        },
        "outputId": "ebf9405f-b397-49d2-c738-e9e0be2dc781"
      },
      "outputs": [
        {
          "output_type": "stream",
          "name": "stderr",
          "text": [
            "/usr/local/lib/python3.11/dist-packages/keras/src/layers/rnn/rnn.py:200: UserWarning: Do not pass an `input_shape`/`input_dim` argument to a layer. When using Sequential models, prefer using an `Input(shape)` object as the first layer in the model instead.\n",
            "  super().__init__(**kwargs)\n"
          ]
        },
        {
          "output_type": "display_data",
          "data": {
            "text/plain": [
              "\u001b[1mModel: \"sequential\"\u001b[0m\n"
            ],
            "text/html": [
              "<pre style=\"white-space:pre;overflow-x:auto;line-height:normal;font-family:Menlo,'DejaVu Sans Mono',consolas,'Courier New',monospace\"><span style=\"font-weight: bold\">Model: \"sequential\"</span>\n",
              "</pre>\n"
            ]
          },
          "metadata": {}
        },
        {
          "output_type": "display_data",
          "data": {
            "text/plain": [
              "┏━━━━━━━━━━━━━━━━━━━━━━━━━━━━━━━━━━━━━━┳━━━━━━━━━━━━━━━━━━━━━━━━━━━━━┳━━━━━━━━━━━━━━━━━┓\n",
              "┃\u001b[1m \u001b[0m\u001b[1mLayer (type)                        \u001b[0m\u001b[1m \u001b[0m┃\u001b[1m \u001b[0m\u001b[1mOutput Shape               \u001b[0m\u001b[1m \u001b[0m┃\u001b[1m \u001b[0m\u001b[1m        Param #\u001b[0m\u001b[1m \u001b[0m┃\n",
              "┡━━━━━━━━━━━━━━━━━━━━━━━━━━━━━━━━━━━━━━╇━━━━━━━━━━━━━━━━━━━━━━━━━━━━━╇━━━━━━━━━━━━━━━━━┩\n",
              "│ lstm (\u001b[38;5;33mLSTM\u001b[0m)                          │ (\u001b[38;5;45mNone\u001b[0m, \u001b[38;5;34m100\u001b[0m, \u001b[38;5;34m50\u001b[0m)             │          \u001b[38;5;34m10,400\u001b[0m │\n",
              "├──────────────────────────────────────┼─────────────────────────────┼─────────────────┤\n",
              "│ lstm_1 (\u001b[38;5;33mLSTM\u001b[0m)                        │ (\u001b[38;5;45mNone\u001b[0m, \u001b[38;5;34m50\u001b[0m)                  │          \u001b[38;5;34m20,200\u001b[0m │\n",
              "├──────────────────────────────────────┼─────────────────────────────┼─────────────────┤\n",
              "│ dense (\u001b[38;5;33mDense\u001b[0m)                        │ (\u001b[38;5;45mNone\u001b[0m, \u001b[38;5;34m25\u001b[0m)                  │           \u001b[38;5;34m1,275\u001b[0m │\n",
              "├──────────────────────────────────────┼─────────────────────────────┼─────────────────┤\n",
              "│ dense_1 (\u001b[38;5;33mDense\u001b[0m)                      │ (\u001b[38;5;45mNone\u001b[0m, \u001b[38;5;34m1\u001b[0m)                   │              \u001b[38;5;34m26\u001b[0m │\n",
              "└──────────────────────────────────────┴─────────────────────────────┴─────────────────┘\n"
            ],
            "text/html": [
              "<pre style=\"white-space:pre;overflow-x:auto;line-height:normal;font-family:Menlo,'DejaVu Sans Mono',consolas,'Courier New',monospace\">┏━━━━━━━━━━━━━━━━━━━━━━━━━━━━━━━━━━━━━━┳━━━━━━━━━━━━━━━━━━━━━━━━━━━━━┳━━━━━━━━━━━━━━━━━┓\n",
              "┃<span style=\"font-weight: bold\"> Layer (type)                         </span>┃<span style=\"font-weight: bold\"> Output Shape                </span>┃<span style=\"font-weight: bold\">         Param # </span>┃\n",
              "┡━━━━━━━━━━━━━━━━━━━━━━━━━━━━━━━━━━━━━━╇━━━━━━━━━━━━━━━━━━━━━━━━━━━━━╇━━━━━━━━━━━━━━━━━┩\n",
              "│ lstm (<span style=\"color: #0087ff; text-decoration-color: #0087ff\">LSTM</span>)                          │ (<span style=\"color: #00d7ff; text-decoration-color: #00d7ff\">None</span>, <span style=\"color: #00af00; text-decoration-color: #00af00\">100</span>, <span style=\"color: #00af00; text-decoration-color: #00af00\">50</span>)             │          <span style=\"color: #00af00; text-decoration-color: #00af00\">10,400</span> │\n",
              "├──────────────────────────────────────┼─────────────────────────────┼─────────────────┤\n",
              "│ lstm_1 (<span style=\"color: #0087ff; text-decoration-color: #0087ff\">LSTM</span>)                        │ (<span style=\"color: #00d7ff; text-decoration-color: #00d7ff\">None</span>, <span style=\"color: #00af00; text-decoration-color: #00af00\">50</span>)                  │          <span style=\"color: #00af00; text-decoration-color: #00af00\">20,200</span> │\n",
              "├──────────────────────────────────────┼─────────────────────────────┼─────────────────┤\n",
              "│ dense (<span style=\"color: #0087ff; text-decoration-color: #0087ff\">Dense</span>)                        │ (<span style=\"color: #00d7ff; text-decoration-color: #00d7ff\">None</span>, <span style=\"color: #00af00; text-decoration-color: #00af00\">25</span>)                  │           <span style=\"color: #00af00; text-decoration-color: #00af00\">1,275</span> │\n",
              "├──────────────────────────────────────┼─────────────────────────────┼─────────────────┤\n",
              "│ dense_1 (<span style=\"color: #0087ff; text-decoration-color: #0087ff\">Dense</span>)                      │ (<span style=\"color: #00d7ff; text-decoration-color: #00d7ff\">None</span>, <span style=\"color: #00af00; text-decoration-color: #00af00\">1</span>)                   │              <span style=\"color: #00af00; text-decoration-color: #00af00\">26</span> │\n",
              "└──────────────────────────────────────┴─────────────────────────────┴─────────────────┘\n",
              "</pre>\n"
            ]
          },
          "metadata": {}
        },
        {
          "output_type": "display_data",
          "data": {
            "text/plain": [
              "\u001b[1m Total params: \u001b[0m\u001b[38;5;34m31,901\u001b[0m (124.61 KB)\n"
            ],
            "text/html": [
              "<pre style=\"white-space:pre;overflow-x:auto;line-height:normal;font-family:Menlo,'DejaVu Sans Mono',consolas,'Courier New',monospace\"><span style=\"font-weight: bold\"> Total params: </span><span style=\"color: #00af00; text-decoration-color: #00af00\">31,901</span> (124.61 KB)\n",
              "</pre>\n"
            ]
          },
          "metadata": {}
        },
        {
          "output_type": "display_data",
          "data": {
            "text/plain": [
              "\u001b[1m Trainable params: \u001b[0m\u001b[38;5;34m31,901\u001b[0m (124.61 KB)\n"
            ],
            "text/html": [
              "<pre style=\"white-space:pre;overflow-x:auto;line-height:normal;font-family:Menlo,'DejaVu Sans Mono',consolas,'Courier New',monospace\"><span style=\"font-weight: bold\"> Trainable params: </span><span style=\"color: #00af00; text-decoration-color: #00af00\">31,901</span> (124.61 KB)\n",
              "</pre>\n"
            ]
          },
          "metadata": {}
        },
        {
          "output_type": "display_data",
          "data": {
            "text/plain": [
              "\u001b[1m Non-trainable params: \u001b[0m\u001b[38;5;34m0\u001b[0m (0.00 B)\n"
            ],
            "text/html": [
              "<pre style=\"white-space:pre;overflow-x:auto;line-height:normal;font-family:Menlo,'DejaVu Sans Mono',consolas,'Courier New',monospace\"><span style=\"font-weight: bold\"> Non-trainable params: </span><span style=\"color: #00af00; text-decoration-color: #00af00\">0</span> (0.00 B)\n",
              "</pre>\n"
            ]
          },
          "metadata": {}
        },
        {
          "output_type": "stream",
          "name": "stdout",
          "text": [
            "Epoch 1/20\n",
            "\u001b[1m2704/2704\u001b[0m \u001b[32m━━━━━━━━━━━━━━━━━━━━\u001b[0m\u001b[37m\u001b[0m \u001b[1m248s\u001b[0m 90ms/step - loss: 0.0106 - val_loss: 0.0011\n",
            "Epoch 2/20\n",
            "\u001b[1m2704/2704\u001b[0m \u001b[32m━━━━━━━━━━━━━━━━━━━━\u001b[0m\u001b[37m\u001b[0m \u001b[1m259s\u001b[0m 89ms/step - loss: 6.5647e-04 - val_loss: 8.5934e-04\n",
            "Epoch 3/20\n",
            "\u001b[1m2704/2704\u001b[0m \u001b[32m━━━━━━━━━━━━━━━━━━━━\u001b[0m\u001b[37m\u001b[0m \u001b[1m259s\u001b[0m 87ms/step - loss: 5.3801e-04 - val_loss: 8.8684e-04\n",
            "Epoch 4/20\n",
            "\u001b[1m2704/2704\u001b[0m \u001b[32m━━━━━━━━━━━━━━━━━━━━\u001b[0m\u001b[37m\u001b[0m \u001b[1m242s\u001b[0m 89ms/step - loss: 4.9936e-04 - val_loss: 7.9454e-04\n",
            "Epoch 5/20\n",
            "\u001b[1m2416/2704\u001b[0m \u001b[32m━━━━━━━━━━━━━━━━━\u001b[0m\u001b[37m━━━\u001b[0m \u001b[1m23s\u001b[0m 80ms/step - loss: 4.5399e-04"
          ]
        }
      ],
      "source": [
        "# -----------------------------\n",
        "# CÓDIGO 1: ENTRENAMIENTO DEL MODELO\n",
        "# -----------------------------\n",
        "\n",
        "# Importar librerías necesarias\n",
        "import pandas as pd  # Para manejo de datos\n",
        "import numpy as np  # Para operaciones numéricas\n",
        "import matplotlib.pyplot as plt  # Para visualización de datos\n",
        "from sklearn.preprocessing import MinMaxScaler  # Para normalizar los datos\n",
        "from tensorflow.keras.models import Sequential  # Para crear el modelo LSTM\n",
        "from tensorflow.keras.layers import LSTM, Dense  # Capas del modelo LSTM\n",
        "import joblib  # Para guardar el scaler\n",
        "\n",
        "# Cargar archivo CSV con datos originales\n",
        "df = pd.read_csv(\"/content/electricityConsumptionAndProductioction.csv\")\n",
        "\n",
        "# Convertir la columna \"DateTime\" a tipo datetime\n",
        "df[\"DateTime\"] = pd.to_datetime(df[\"DateTime\"])\n",
        "\n",
        "# Establecer la columna DateTime como índice\n",
        "df.set_index(\"DateTime\", inplace=True)\n",
        "\n",
        "# Seleccionar solo la columna \"Consumption\" como variable a predecir\n",
        "data = df[[\"Consumption\"]].values\n",
        "\n",
        "# Inicializar y aplicar MinMaxScaler para normalizar los datos\n",
        "scaler = MinMaxScaler()\n",
        "data_scaled = scaler.fit_transform(data)  # Normaliza entre 0 y 1\n",
        "\n",
        "# Guardar el scaler para uso futuro con nuevos datos\n",
        "joblib.dump(scaler, \"scaler_consumo.save\")\n",
        "\n",
        "# Crear secuencias para entrenar el modelo (ventanas deslizantes)\n",
        "def create_sequences(data, seq_length=100):\n",
        "    X, y = [], []\n",
        "    for i in range(len(data) - seq_length):\n",
        "        X.append(data[i:i+seq_length])\n",
        "        y.append(data[i+seq_length])\n",
        "    return np.array(X), np.array(y)\n",
        "\n",
        "# Definir longitud de la secuencia y crear datos X, y\n",
        "seq_length = 100\n",
        "X, y = create_sequences(data_scaled, seq_length)\n",
        "\n",
        "# Separar 80% para entrenamiento y 20% para prueba\n",
        "split = int(0.8 * len(X))\n",
        "X_train, X_test = X[:split], X[split:]\n",
        "y_train, y_test = y[:split], y[split:]\n",
        "\n",
        "# Definir arquitectura del modelo LSTM\n",
        "model = Sequential([\n",
        "    LSTM(50, return_sequences=True, input_shape=(seq_length, 1)),\n",
        "    LSTM(50, return_sequences=False),\n",
        "    Dense(25),\n",
        "    Dense(1)\n",
        "])\n",
        "\n",
        "# Compilar el modelo usando el optimizador Adam y error cuadrático medio\n",
        "model.compile(optimizer='adam', loss='mse')\n",
        "model.summary()  # Muestra resumen del modelo\n",
        "\n",
        "# Entrenar el modelo con datos de entrenamiento y validación\n",
        "history = model.fit(X_train, y_train, epochs=20, batch_size=16, validation_data=(X_test, y_test))\n",
        "\n",
        "# Guardar el modelo entrenado\n",
        "model.save(\"modelo_consumo_lstm.h5\")\n",
        "\n",
        "# Crear predicciones para 365 días futuros\n",
        "future_days = 365\n",
        "future_input = data_scaled[-seq_length:]\n",
        "\n",
        "predictions = []\n",
        "for _ in range(future_days):\n",
        "    future_input = future_input.reshape(1, seq_length, 1)\n",
        "    pred = model.predict(future_input)[0]\n",
        "    predictions.append(pred)\n",
        "    future_input = np.append(future_input[0][1:], pred).reshape(seq_length, 1)\n",
        "\n",
        "# Desnormalizar las predicciones\n",
        "predictions = scaler.inverse_transform(np.array(predictions).reshape(-1, 1))\n",
        "\n",
        "# Crear fechas futuras para graficar\n",
        "future_dates = pd.date_range(df.index[-1], periods=future_days+1, freq=\"D\")[1:]\n",
        "\n",
        "# Visualizar resultados\n",
        "plt.figure(figsize=(10,5))\n",
        "plt.plot(df.index, df[\"Consumption\"], label=\"Datos reales\")\n",
        "plt.plot(future_dates, predictions, label=\"Predicción\", linestyle=\"dashed\")\n",
        "plt.legend()\n",
        "plt.show()"
      ]
    },
    {
      "cell_type": "code",
      "source": [
        "# -----------------------------\n",
        "# CÓDIGO 2: USO DEL MODELO ENTRENADO CON NUEVOS DATOS\n",
        "# -----------------------------\n",
        "\n",
        "# Importar librerías necesarias\n",
        "import pandas as pd\n",
        "import numpy as np\n",
        "import matplotlib.pyplot as plt\n",
        "from sklearn.preprocessing import MinMaxScaler\n",
        "from tensorflow.keras.models import load_model\n",
        "import joblib  # Para cargar el scaler\n",
        "\n",
        "# Cargar nueva base de datos\n",
        "df_new = pd.read_csv(r\"/content/datos_sinteticos_consumo_produccion.csv\")\n",
        "df_new[\"DateTime\"] = pd.to_datetime(df_new[\"DateTime\"])\n",
        "df_new.set_index(\"DateTime\", inplace=True)\n",
        "\n",
        "# Seleccionar la columna de consumo\n",
        "data_new = df_new[[\"Consumption\"]].values\n",
        "\n",
        "# Cargar el scaler previamente guardado (NO volver a entrenarlo con fit_transform)\n",
        "scaler = joblib.load(\"scaler_consumo.save\")\n",
        "data_new_scaled = scaler.transform(data_new)\n",
        "\n",
        "# Crear secuencias para el nuevo conjunto de datos\n",
        "def create_sequences(data, seq_length=100):\n",
        "    X = []\n",
        "    for i in range(len(data) - seq_length):\n",
        "        X.append(data[i:i+seq_length])\n",
        "    return np.array(X)\n",
        "\n",
        "seq_length = 100\n",
        "X_new = create_sequences(data_new_scaled, seq_length)\n",
        "\n",
        "# Cargar modelo previamente entrenado\n",
        "model = load_model(r\"C:\\\\Users\\\\gabri\\\\Pandas\\\\modelo_consumo_lstm.h5\", compile=False)\n",
        "\n",
        "# Realizar predicciones\n",
        "predictions = model.predict(X_new)\n",
        "predictions = scaler.inverse_transform(predictions)  # Desnormalizar\n",
        "\n",
        "# Obtener fechas para las predicciones\n",
        "pred_dates = df_new.index[seq_length:]\n",
        "\n",
        "# Graficar resultados\n",
        "plt.figure(figsize=(12,6))\n",
        "plt.plot(df_new.index, df_new[\"Consumption\"], label=\"Consumo real (nuevo)\")\n",
        "plt.plot(pred_dates, predictions, label=\"Predicción\", linestyle=\"dashed\")\n",
        "plt.title(\"Predicción de consumo con base de datos nueva\")\n",
        "plt.xlabel(\"Fecha\")\n",
        "plt.ylabel(\"Consumo\")\n",
        "plt.legend()\n",
        "plt.grid(True)\n",
        "plt.tight_layout()\n",
        "plt.show()"
      ],
      "metadata": {
        "id": "eFXZVCmzUqKg"
      },
      "execution_count": null,
      "outputs": []
    }
  ]
}