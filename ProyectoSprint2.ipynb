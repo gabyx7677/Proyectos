{
  "nbformat": 4,
  "nbformat_minor": 0,
  "metadata": {
    "colab": {
      "provenance": [],
      "authorship_tag": "ABX9TyOpCZfHrplLD//xGiq8jbCU",
      "include_colab_link": true
    },
    "kernelspec": {
      "name": "python3",
      "display_name": "Python 3"
    },
    "language_info": {
      "name": "python"
    }
  },
  "cells": [
    {
      "cell_type": "markdown",
      "metadata": {
        "id": "view-in-github",
        "colab_type": "text"
      },
      "source": [
        "<a href=\"https://colab.research.google.com/github/gabyx7677/Proyectos/blob/Proyectos-Triple-Ten/ProyectoSprint2.ipynb\" target=\"_parent\"><img src=\"https://colab.research.google.com/assets/colab-badge.svg\" alt=\"Open In Colab\"/></a>"
      ]
    },
    {
      "cell_type": "markdown",
      "source": [
        "# Paso 1\n",
        "En la última tarea de la primera parte de este proyecto escribiste código para:\n",
        "\n",
        "- Eliminar todos los espacios iniciales y finales de los nombres, así como cualquier guion bajo.\n",
        "- Convertir todas las edades en números enteros.\n",
        "- Separar todos los nombres y apellidos en una sublista.\n",
        "\n",
        "Hagámoslo ahora una función para que podamos usarla para fijar a cualquier cliente. Nombra a tu función clean_user. Debe recibir una lista con toda la información del cliente (user_info), así como dos enteros. Uno de ellos señala el índice del nombre del cliente y el otro es el índice de la edad del cliente en la lista. Debe devolver la lista limpia después de aplicar todos los cambios anteriores. Pruébala llamándola, pasándole la lista test_user[] y luego muéstrala en pantalla."
      ],
      "metadata": {
        "id": "5hL7QJBPzeJ2"
      }
    },
    {
      "cell_type": "code",
      "source": [
        "#Propuesto\n",
        "\n",
        "def clean_user(user_info, name_client_index, age_client_index): # define tu función aquí\n",
        "\n",
        "    # Paso 1: elimina del nombre espacios iniciales y finales, así como guiones\n",
        "    user_name_1 = user_info[name_client_index].strip().replace('_', ' ')\n",
        "\n",
        "    # Paso 2: convierte la edad en entero\n",
        "    user_age_1 = int(user_info[age_client_index])\n",
        "\n",
        "    # Paso 3: separa el nombre y el apellido en una sublista\n",
        "    user_name_1 = user_name_1.split()\n",
        "\n",
        "    # Prepara la lista con la información completa del usuario\n",
        "    # Reemplaza el nombre y la edad originales con los datos limpios\n",
        "    user_info[0] = user_info[0]\n",
        "    user_info[1] = user_name_1\n",
        "    user_info[2] = user_age_1\n",
        "    user_info[3] = [user_info[3]]\n",
        "    user_info[4] = [user_info[4]]\n",
        "\n",
        "    return [user_info[0], user_info[1], user_info[2], user_info[3], user_info[4]]\n",
        "\n",
        "# Prueba la función\n",
        "test_user = ['32415', ' mike_reed ', 32.0, ['ELECTRONICS', 'SPORT', 'BOOKS'], [894, 213, 173]]\n",
        "name_index = 1\n",
        "age_index = 2\n",
        "\n",
        "print(clean_user(test_user, name_index, age_index)) # completa aquí el llamado de la función"
      ],
      "metadata": {
        "id": "CjyGyQoLzanR",
        "colab": {
          "base_uri": "https://localhost:8080/"
        },
        "outputId": "c1a5eb06-fecb-4da1-e73e-c062d42fea5a"
      },
      "execution_count": null,
      "outputs": [
        {
          "output_type": "stream",
          "name": "stdout",
          "text": [
            "['32415', ['mike', 'reed'], 32, [['ELECTRONICS', 'SPORT', 'BOOKS']], [[894, 213, 173]]]\n"
          ]
        }
      ]
    },
    {
      "cell_type": "code",
      "source": [
        "#Presentado\n",
        "\n",
        "from pprint import pprint\n",
        "\n",
        "def clean_user1(user_info, name_client_index, age_client_index): # define tu función aquí\n",
        "\n",
        "    # Paso 1: elimina del nombre espacios iniciales y finales, así como guiones\n",
        "    user_name_1 = user_info[name_client_index].strip().replace('_', ' ')\n",
        "\n",
        "    # Paso 2: convierte la edad en entero\n",
        "    user_age_1 = int(user_info[age_client_index])\n",
        "\n",
        "    # Paso 3: separa el nombre y el apellido en una sublista\n",
        "    user_name_1 = user_name_1.split()\n",
        "\n",
        "    # Prepara la lista con la información completa del usuario\n",
        "    # Reemplaza el nombre y la edad originales con los datos limpios\n",
        "    id = user_info[0]\n",
        "    user_name_1\n",
        "    user_age_1\n",
        "    preferences= [user_info[3]]\n",
        "    amount = [user_info[4]]\n",
        "\n",
        "    return [id, user_name_1, user_age_1, preferences, amount]\n",
        "\n",
        "# Prueba la función\n",
        "test_user = ['32415', ' mike_reed ', 32.0, ['ELECTRONICS', 'SPORT', 'BOOKS'], [894, 213, 173]]\n",
        "name_index = 1\n",
        "age_index = 2\n",
        "\n",
        "print(\"Función 1:\")\n",
        "print()\n",
        "print(clean_user1(test_user, name_index, age_index)) # completa aquí el llamado de la función\n",
        "print()\n",
        "\n",
        "def clean_user2(user_info, name_client_index, age_client_index): # define tu función aquí\n",
        "    users_cleaned = [] #Crea una lista vacia donde almacenar los datos limpios\n",
        "    for user in user_info: #Recorre la lista por cada uno de sus indices\n",
        "        # Paso 1: elimina del nombre espacios iniciales y finales, así como guiones\n",
        "        user_name_1 = user[name_client_index].strip().replace('_', ' ')\n",
        "\n",
        "        # Paso 2: convierte la edad en entero\n",
        "        user_age_1 = int(user[age_client_index])\n",
        "\n",
        "        # Paso 3: separa el nombre y el apellido en una sublista\n",
        "        user_name_1 = user_name_1.split()\n",
        "\n",
        "        # Prepara la lista con la información completa del usuario\n",
        "        # Reemplaza el nombre y la edad originales con los datos limpios\n",
        "        id = user[0]\n",
        "        user_name = user_name_1\n",
        "        user_age = user_age_1\n",
        "        preferences = user[3]\n",
        "        amount = user[4]\n",
        "        users_cleaned.append([id, user_name, user_age, preferences, amount])\n",
        "    return users_cleaned\n",
        "\n",
        "# Prueba la función\n",
        "test_user = [\n",
        "    ['91827', ' alice_wong ', 25.0, ['MUSIC', 'TRAVEL', 'BOOKS'], [634, 199, 821]],\n",
        "    ['96548', ' bruno_mars_77 ', 34.0, ['TECH', 'SPORTS', 'MOVIES'], [723, 284, 192]],\n",
        "    ['85677', ' natalie_porter_999 ', 19.0, ['COOKING', 'MUSIC', 'ART'], [801, 390, 245]],\n",
        "    ['71547', ' samuel_ortiz ', 45.0, ['DOCUMENTARIES', 'NATURE', 'BOOKS'], [945, 612, 778]],\n",
        "    ['14567', ' valeria_montes_', 31.0, ['PHOTOGRAPHY', 'FASHION', 'BOOKS'], [768, 234, 166]]\n",
        "]\n",
        "name_index = 1\n",
        "age_index = 2\n",
        "\n",
        "print(\"Función 2:\")\n",
        "print()\n",
        "pprint(clean_user2(test_user, name_index, age_index)) # completa aquí el llamado de la función"
      ],
      "metadata": {
        "colab": {
          "base_uri": "https://localhost:8080/"
        },
        "id": "WyzcwwonqfAK",
        "outputId": "c0e3d589-dcb5-4068-a707-d832df90d3a9"
      },
      "execution_count": null,
      "outputs": [
        {
          "output_type": "stream",
          "name": "stdout",
          "text": [
            "Función 1:\n",
            "\n",
            "['32415', ['mike', 'reed'], 32, [['ELECTRONICS', 'SPORT', 'BOOKS']], [[894, 213, 173]]]\n",
            "\n",
            "Función 2:\n",
            "\n",
            "[['91827',\n",
            "  ['alice', 'wong'],\n",
            "  25,\n",
            "  ['MUSIC', 'TRAVEL', 'BOOKS'],\n",
            "  [634, 199, 821]],\n",
            " ['96548',\n",
            "  ['bruno', 'mars', '77'],\n",
            "  34,\n",
            "  ['TECH', 'SPORTS', 'MOVIES'],\n",
            "  [723, 284, 192]],\n",
            " ['85677',\n",
            "  ['natalie', 'porter', '999'],\n",
            "  19,\n",
            "  ['COOKING', 'MUSIC', 'ART'],\n",
            "  [801, 390, 245]],\n",
            " ['71547',\n",
            "  ['samuel', 'ortiz'],\n",
            "  45,\n",
            "  ['DOCUMENTARIES', 'NATURE', 'BOOKS'],\n",
            "  [945, 612, 778]],\n",
            " ['14567',\n",
            "  ['valeria', 'montes'],\n",
            "  31,\n",
            "  ['PHOTOGRAPHY', 'FASHION', 'BOOKS'],\n",
            "  [768, 234, 166]]]\n"
          ]
        }
      ]
    },
    {
      "cell_type": "markdown",
      "source": [
        "****Pista****\n",
        "\n",
        "Para implementar la función clean_user, efectúa los siguientes pasos:\n",
        "\n",
        "Recortar y reemplazar: utiliza strip() para eliminar espacios iniciales y finales del nombre del usuario y replace('_', ' ') para eliminar guiones bajos con espacios.\n",
        "Convertir la edad: convierte la edad en entero utilizando la función int().\n",
        "Separar el nombre: utiliza el método split() para separar el nombre y el apellido, creando una sublista.\n",
        "Asegúrate de modificar la lista user_info que aparece actualizando el nombre y la edad con los datos limpios antes de devolver la lista. Prueba tu función con un usuario de ejemplo para verificar que funciona correctamente."
      ],
      "metadata": {
        "id": "JicfZchVzt7v"
      }
    },
    {
      "cell_type": "markdown",
      "source": [
        "<div style=\"background-color:#e0f0ff; padding:10px; border-radius:8px;\">\n",
        "  Decidí realizar el caso más general implementando una función que itere una lista de listas (tabla) y realizara el mismo proceso de limpieza\n",
        "</div>"
      ],
      "metadata": {
        "id": "jevd9jVD1nOC"
      }
    },
    {
      "cell_type": "markdown",
      "source": [
        "# Paso 2\n",
        "\n",
        "Observa que todas las categorías favoritas están almacenadas en mayúsculas. Llena una nueva lista llamada `fav_categories_low` con las mismas categorías, pero en minúsculas, iterando sobre los valores en la lista `fav_categories`, modificándolos y luego añade los nuevos valores a la lista `fav_categories_low`. Como siempre, muestra el resultado final."
      ],
      "metadata": {
        "id": "kVtPEPlEz_FU"
      }
    },
    {
      "cell_type": "code",
      "source": [
        "fav_categories = ['ELECTRONICS', 'SPORT', 'BOOKS']\n",
        "fav_categories_low = []\n",
        "\n",
        "# escribe tu código aquí\n",
        "for categorie in fav_categories:\n",
        "    fav_categories_low.append(categorie.lower())\n",
        "\n",
        "print(fav_categories_low)"
      ],
      "metadata": {
        "id": "wmxR9l6sz1v3",
        "colab": {
          "base_uri": "https://localhost:8080/"
        },
        "outputId": "98750cc0-c2be-4e57-b4ad-5326bf80c600"
      },
      "execution_count": null,
      "outputs": [
        {
          "output_type": "stream",
          "name": "stdout",
          "text": [
            "['electronics', 'sport', 'books']\n"
          ]
        }
      ]
    },
    {
      "cell_type": "markdown",
      "source": [
        "********Pista********\n",
        "\n",
        "Crea un bucle `for` que itere sobre la lista `fav_categories`. Utiliza el método `lower()` para transformar cada categoría a minúsculas. Luego, utiliza el método `append()` para agregar los valores actualizados a la lista `fav_categories_low`."
      ],
      "metadata": {
        "id": "vfa4KpBi0Fa0"
      }
    },
    {
      "cell_type": "markdown",
      "source": [
        "# Paso 3\n",
        "\n",
        "Ahora hagamos lo mismo, pero para cada uno de los usuarios de la empresa. Llena una lista nueva llamada `users_categories_low` con los mismos usuarios, pero con sus categorías en minúsculas, iterando sobre los valores en la lista `users`, luego itera sobre los valores en `user_categories`, modificándolos, y después agrega los nuevos valores de usuarios a la lista `users_categories_low`. Como siempre, muestra el resultado final."
      ],
      "metadata": {
        "id": "qrXg5v5ps6ac"
      }
    },
    {
      "cell_type": "code",
      "source": [
        "from pprint import pprint\n",
        "users = [\n",
        "    ['32415', ' mike_reed ', 32.0, ['ELECTRONICS', 'SPORT', 'BOOKS'], [894, 213, 173]],\n",
        "    ['31980', 'kate morgan', 24.0, ['CLOTHES', 'BOOKS'], [439, 390]],\n",
        "    ['32156', ' john doe ', 37.0, ['ELECTRONICS', 'HOME', 'FOOD'], [459, 120, 99]],\n",
        "    ['32761', 'SAMANTHA SMITH', 29.0, ['CLOTHES', 'ELECTRONICS', 'BEAUTY'], [299, 679, 85]],\n",
        "    ['32984', 'David White', 41.0, ['BOOKS', 'HOME', 'SPORT'], [234, 329, 243]],\n",
        "    ['33001', 'emily brown', 26.0, ['BEAUTY', 'HOME', 'FOOD'], [213, 659, 79]],\n",
        "    ['33767', ' Maria Garcia', 33.0, ['CLOTHES', 'FOOD', 'BEAUTY'], [499, 189, 63]],\n",
        "    ['33912', 'JOSE MARTINEZ', 22.0, ['SPORT', 'ELECTRONICS', 'HOME'], [259, 549, 109]],\n",
        "    ['34009', 'lisa wilson ', 35.0, ['HOME', 'BOOKS', 'CLOTHES'], [329, 189, 329]],\n",
        "    ['34278', 'James Lee', 28.0, ['BEAUTY', 'CLOTHES', 'ELECTRONICS'], [189, 299, 579]],\n",
        "]\n",
        "\n",
        "users_categories_low_1 = []\n",
        "for user in users:\n",
        "\tcategories_low = []\n",
        "\tfor category in user[3]: # escribe tu código aquí\n",
        "\t\tlowered_category = category.lower()\n",
        "\t\tcategories_low.append(lowered_category)\n",
        "\tuser[3] = categories_low #En este caso se remplaza directamente el valor de user[3] sin necesidad de usar pop() e insert()\n",
        "\tusers_categories_low_1.append(user)\n",
        "\t\t# escribe tu código aquí\n",
        "\n",
        "# escribe tu código aquí\n",
        "\n",
        "print(\"Ciclo 1: user_categories_low_1\")\n",
        "print()\n",
        "pprint(users_categories_low_1)\n",
        "print()\n",
        "print()\n",
        "print()\n",
        "\n",
        "\n",
        "from pprint import pprint\n",
        "\n",
        "users_categories_low_2 = []\n",
        "\n",
        "for user in users:\n",
        "    # Creamos una lista nueva para las categorías en minúsculas\n",
        "    categories_low = []\n",
        "\n",
        "    # Iteramos sobre la lista de categorías (que está en user[3])\n",
        "    for category in user[3]:\n",
        "        lowered_category = category.lower()\n",
        "        categories_low.append(lowered_category)\n",
        "\n",
        "    # Quitamos la lista original de categorías\n",
        "    user.pop(3)\n",
        "                            #En este caso usamos las funciones pop() e insert() para hacer el cambio\n",
        "    # Insertamos la nueva lista en minúsculas en la misma posición\n",
        "    user.insert(3, categories_low)\n",
        "\n",
        "    # Agregamos el usuario actualizado a la lista final\n",
        "    users_categories_low_2.append(user)\n",
        "\n",
        "# Mostramos el resultado\n",
        "print(\"Ciclo 2: user_categories_low_2\")\n",
        "print()\n",
        "pprint(users_categories_low_2)"
      ],
      "metadata": {
        "colab": {
          "base_uri": "https://localhost:8080/"
        },
        "id": "hZRsswyZs67G",
        "outputId": "2ebd43c7-0ec7-413f-8952-e669c450b11d"
      },
      "execution_count": null,
      "outputs": [
        {
          "output_type": "stream",
          "name": "stdout",
          "text": [
            "Ciclo 1 user_categories_low_1\n",
            "\n",
            "[['32415',\n",
            "  ' mike_reed ',\n",
            "  32.0,\n",
            "  ['electronics', 'sport', 'books'],\n",
            "  [894, 213, 173]],\n",
            " ['31980', 'kate morgan', 24.0, ['clothes', 'books'], [439, 390]],\n",
            " ['32156', ' john doe ', 37.0, ['electronics', 'home', 'food'], [459, 120, 99]],\n",
            " ['32761',\n",
            "  'SAMANTHA SMITH',\n",
            "  29.0,\n",
            "  ['clothes', 'electronics', 'beauty'],\n",
            "  [299, 679, 85]],\n",
            " ['32984', 'David White', 41.0, ['books', 'home', 'sport'], [234, 329, 243]],\n",
            " ['33001', 'emily brown', 26.0, ['beauty', 'home', 'food'], [213, 659, 79]],\n",
            " ['33767',\n",
            "  ' Maria Garcia',\n",
            "  33.0,\n",
            "  ['clothes', 'food', 'beauty'],\n",
            "  [499, 189, 63]],\n",
            " ['33912',\n",
            "  'JOSE MARTINEZ',\n",
            "  22.0,\n",
            "  ['sport', 'electronics', 'home'],\n",
            "  [259, 549, 109]],\n",
            " ['34009', 'lisa wilson ', 35.0, ['home', 'books', 'clothes'], [329, 189, 329]],\n",
            " ['34278',\n",
            "  'James Lee',\n",
            "  28.0,\n",
            "  ['beauty', 'clothes', 'electronics'],\n",
            "  [189, 299, 579]]]\n",
            "\n",
            "\n",
            "\n",
            "Ciclo 2 user_categories_low_2\n",
            "\n",
            "[['32415',\n",
            "  ' mike_reed ',\n",
            "  32.0,\n",
            "  ['electronics', 'sport', 'books'],\n",
            "  [894, 213, 173]],\n",
            " ['31980', 'kate morgan', 24.0, ['clothes', 'books'], [439, 390]],\n",
            " ['32156', ' john doe ', 37.0, ['electronics', 'home', 'food'], [459, 120, 99]],\n",
            " ['32761',\n",
            "  'SAMANTHA SMITH',\n",
            "  29.0,\n",
            "  ['clothes', 'electronics', 'beauty'],\n",
            "  [299, 679, 85]],\n",
            " ['32984', 'David White', 41.0, ['books', 'home', 'sport'], [234, 329, 243]],\n",
            " ['33001', 'emily brown', 26.0, ['beauty', 'home', 'food'], [213, 659, 79]],\n",
            " ['33767',\n",
            "  ' Maria Garcia',\n",
            "  33.0,\n",
            "  ['clothes', 'food', 'beauty'],\n",
            "  [499, 189, 63]],\n",
            " ['33912',\n",
            "  'JOSE MARTINEZ',\n",
            "  22.0,\n",
            "  ['sport', 'electronics', 'home'],\n",
            "  [259, 549, 109]],\n",
            " ['34009', 'lisa wilson ', 35.0, ['home', 'books', 'clothes'], [329, 189, 329]],\n",
            " ['34278',\n",
            "  'James Lee',\n",
            "  28.0,\n",
            "  ['beauty', 'clothes', 'electronics'],\n",
            "  [189, 299, 579]]]\n"
          ]
        }
      ]
    },
    {
      "cell_type": "markdown",
      "source": [
        "********Pista********\n",
        "\n",
        "Crea un bucle `for` que itere sobre la lista `users`. Luego crea otro bucle `for` que itere sobre las categorías de usuarios para acceder al usuario y modificarlo. Utiliza el método `lower()` para transformar cada categoría a minúsculas. Luego, modifica al usuario eliminando la lista de categorías anteriores con `pop()` y con `insert()` inserta la nueva en su lugar. A continuación utiliza el método `append()` para agregar a los usuarios actualizados a la lista `users_categories_low`."
      ],
      "metadata": {
        "id": "LcAW8vnTs_bW"
      }
    },
    {
      "cell_type": "markdown",
      "source": [
        "<div style=\"background-color:#e0f0ff; padding:10px; border-radius:8px;\">\n",
        "  Quise experimentar con los diferentes tipos de formas de hacer que el valor de una lista cambié, ya sea remplazandolo por psos con el método pop() e insert() o inmediatamente usando la variable indexada como es en este caso de la lista category, los resultados son iguales.\n",
        "</div>"
      ],
      "metadata": {
        "id": "_pm6eCal1Uxl"
      }
    },
    {
      "cell_type": "markdown",
      "source": [
        "# Paso 4\n",
        "\n",
        "Ahora, completemos el código de nuestra función `clean_user` para limpiar la categoría:\n",
        "1. Añade otro parámetro con el índice de categorías.\n",
        "2. Pon todos los nombres en minúsculas antes de aplicar \"strip\" y \"replace\".\n",
        "\n",
        "Después, crea un bucle y aplica tu función a toda la lista de usuarios, agregando tus resultados a la lista `users_clean`. Después muéstralo"
      ],
      "metadata": {
        "id": "wJV-u15U68Sp"
      }
    },
    {
      "cell_type": "code",
      "source": [
        "from pprint import pprint\n",
        "\n",
        "\n",
        "def clean_user_1(user_info, name_index, age_index, cat_index):\n",
        "\n",
        "  # Paso 1: pon todo en minúsculas y elimina del nombre espacios iniciales y finales, así como guiones\n",
        "  user_name_1 = user_info[name_index].lower().strip().replace(\"_\", \" \") # escribe tu código aquí\n",
        "\n",
        "  # Paso 2: convierte la edad en entero\n",
        "  user_age_1 = int(user_info[age_index]) # escribe tu código aquí\n",
        "\n",
        "  # Paso 3: separa el nombre y el apellido en una sublista\n",
        "  user_name_1 = user_name_1.split()# escribe tu código aquí\n",
        "\n",
        "  # Paso 4: poner categorías en minúsculas\n",
        "  categories_low = []\n",
        "  for category in user[3]:\n",
        "    lowered_category = category.lower()\n",
        "    categories_low.append(lowered_category)# escribe tu código aquí\n",
        "\n",
        "\n",
        "    id = user_info[0]\n",
        "    user_name_1\n",
        "    user_age_1\n",
        "    categories_low\n",
        "    amount = user_info[4] # Prepara la lista con la información completa del usuario\n",
        "  # Reemplaza el nombre y la edad originales con los datos limpios\n",
        "  # escribe tu código aquí\n",
        "\n",
        "  return [id, user_name_1, user_age_1, categories_low, amount]\n",
        "\n",
        "\n",
        "users = [\n",
        "    ['32415', ' mike_reed ', 32.0, ['ELECTRONICS', 'SPORT', 'BOOKS'], [894, 213, 173]],\n",
        "    ['31980', 'kate morgan', 24.0, ['CLOTHES', 'BOOKS'], [439, 390]],\n",
        "    ['32156', ' john doe ', 37.0, ['ELECTRONICS', 'HOME', 'FOOD'], [459, 120, 99]],\n",
        "    ['32761', 'SAMANTHA SMITH', 29.0, ['CLOTHES', 'ELECTRONICS', 'BEAUTY'], [299, 679, 85]],\n",
        "    ['32984', 'David White', 41.0, ['BOOKS', 'HOME', 'SPORT'], [234, 329, 243]],\n",
        "    ['33001', 'emily brown', 26.0, ['BEAUTY', 'HOME', 'FOOD'], [213, 659, 79]],\n",
        "    ['33767', ' Maria Garcia', 33.0, ['CLOTHES', 'FOOD', 'BEAUTY'], [499, 189, 63]],\n",
        "    ['33912', 'JOSE MARTINEZ', 22.0, ['SPORT', 'ELECTRONICS', 'HOME'], [259, 549, 109]],\n",
        "    ['34009', 'lisa wilson ', 35.0, ['HOME', 'BOOKS', 'CLOTHES'], [329, 189, 329]],\n",
        "    ['34278', 'James Lee', 28.0, ['BEAUTY', 'CLOTHES', 'ELECTRONICS'], [189, 299, 579]],\n",
        "]\n",
        "\n",
        "name_index = 1\n",
        "age_index = 2\n",
        "cat_index = 3\n",
        "users_cleaned_1 = []\n",
        "\n",
        "for user in users:# escribe tu código aquí\n",
        "  user_cleaned = clean_user_1(user, name_index, age_index, cat_index)# escribe tu código aquí\n",
        "  users_cleaned_1.append(user_cleaned)# escribe tu código aquí\n",
        "print(\"Caso 1: usando función clean_user_1\")\n",
        "print()\n",
        "pprint(users_cleaned_1)\n",
        "print()\n",
        "\n",
        "\n",
        "def clean_user_2(user_info, name_index, age_index, cat_index):\n",
        "    users_cleaned = []\n",
        "    for user in user_info:\n",
        "        user_id = user[0]\n",
        "        user_name = user[name_index].lower().strip().replace(\"_\", \" \").split()  # Paso 1: pon todo en minúsculas y elimina del nombre espacios iniciales y finales, así como guiones, tambien parte el string\n",
        "        user_age = int(user[age_index]) # Paso 2: convierte la edad en entero\n",
        "        #categories = [category.lower() for category in user[cat_index]]\n",
        "        categories = [] # Paso 3: hace que las categorias queden en minuscula\n",
        "        for category in user[cat_index]:\n",
        "            categories.append(category.lower())\n",
        "        amounts = user[4]\n",
        "\n",
        "        users_cleaned.append([user_id, user_name, user_age, categories, amounts])\n",
        "    return users_cleaned\n",
        "\n",
        "print(\"Caso 2: usando función clean_user_2\")\n",
        "print()\n",
        "users_cleaned_2 = clean_user_2(users, name_index, age_index, cat_index)\n",
        "pprint(users_cleaned_2)\n"
      ],
      "metadata": {
        "colab": {
          "base_uri": "https://localhost:8080/"
        },
        "id": "9Q5O_tnw68wd",
        "outputId": "d6154d52-f97a-4498-e5cd-4f0aa53277b6"
      },
      "execution_count": null,
      "outputs": [
        {
          "output_type": "stream",
          "name": "stdout",
          "text": [
            "Caso 1: usando función clean_user_1\n",
            "\n",
            "[['32415',\n",
            "  ['mike', 'reed'],\n",
            "  32,\n",
            "  ['electronics', 'sport', 'books'],\n",
            "  [894, 213, 173]],\n",
            " ['31980', ['kate', 'morgan'], 24, ['clothes', 'books'], [439, 390]],\n",
            " ['32156',\n",
            "  ['john', 'doe'],\n",
            "  37,\n",
            "  ['electronics', 'home', 'food'],\n",
            "  [459, 120, 99]],\n",
            " ['32761',\n",
            "  ['samantha', 'smith'],\n",
            "  29,\n",
            "  ['clothes', 'electronics', 'beauty'],\n",
            "  [299, 679, 85]],\n",
            " ['32984', ['david', 'white'], 41, ['books', 'home', 'sport'], [234, 329, 243]],\n",
            " ['33001', ['emily', 'brown'], 26, ['beauty', 'home', 'food'], [213, 659, 79]],\n",
            " ['33767',\n",
            "  ['maria', 'garcia'],\n",
            "  33,\n",
            "  ['clothes', 'food', 'beauty'],\n",
            "  [499, 189, 63]],\n",
            " ['33912',\n",
            "  ['jose', 'martinez'],\n",
            "  22,\n",
            "  ['sport', 'electronics', 'home'],\n",
            "  [259, 549, 109]],\n",
            " ['34009',\n",
            "  ['lisa', 'wilson'],\n",
            "  35,\n",
            "  ['home', 'books', 'clothes'],\n",
            "  [329, 189, 329]],\n",
            " ['34278',\n",
            "  ['james', 'lee'],\n",
            "  28,\n",
            "  ['beauty', 'clothes', 'electronics'],\n",
            "  [189, 299, 579]]]\n",
            "\n",
            "Caso 2: usando función clean_user_2\n",
            "\n",
            "[['32415',\n",
            "  ['mike', 'reed'],\n",
            "  32,\n",
            "  ['electronics', 'sport', 'books'],\n",
            "  [894, 213, 173]],\n",
            " ['31980', ['kate', 'morgan'], 24, ['clothes', 'books'], [439, 390]],\n",
            " ['32156',\n",
            "  ['john', 'doe'],\n",
            "  37,\n",
            "  ['electronics', 'home', 'food'],\n",
            "  [459, 120, 99]],\n",
            " ['32761',\n",
            "  ['samantha', 'smith'],\n",
            "  29,\n",
            "  ['clothes', 'electronics', 'beauty'],\n",
            "  [299, 679, 85]],\n",
            " ['32984', ['david', 'white'], 41, ['books', 'home', 'sport'], [234, 329, 243]],\n",
            " ['33001', ['emily', 'brown'], 26, ['beauty', 'home', 'food'], [213, 659, 79]],\n",
            " ['33767',\n",
            "  ['maria', 'garcia'],\n",
            "  33,\n",
            "  ['clothes', 'food', 'beauty'],\n",
            "  [499, 189, 63]],\n",
            " ['33912',\n",
            "  ['jose', 'martinez'],\n",
            "  22,\n",
            "  ['sport', 'electronics', 'home'],\n",
            "  [259, 549, 109]],\n",
            " ['34009',\n",
            "  ['lisa', 'wilson'],\n",
            "  35,\n",
            "  ['home', 'books', 'clothes'],\n",
            "  [329, 189, 329]],\n",
            " ['34278',\n",
            "  ['james', 'lee'],\n",
            "  28,\n",
            "  ['beauty', 'clothes', 'electronics'],\n",
            "  [189, 299, 579]]]\n"
          ]
        }
      ]
    },
    {
      "cell_type": "markdown",
      "source": [
        "********Pista********\n",
        "\n",
        "Efectúa los siguientes pasos para implementar la función `clean_user`:\n",
        "\n",
        "1. **Copia y adapta:** copia el código de tu función anterior `clean_user`.\n",
        "\n",
        "2. **Pon el nombre en minúsculas:** antes de aplicar `split()` y `replace()`, aplica `lower()` al nombre del cliente.\n",
        "\n",
        "3. **Procesa las categorías:** agrega una sección nueva para gestionar las categorías. Pon cada categoría de la lista en minúsculas y almacénalas en una nueva lista.\n",
        "\n",
        "4. **Ejecuta tu código:** asegúrate de que la función `clean_user` actualice la lista `user_info` con el nombre, edad y categorías limpias. Haz un bucle en la lista `users` y llama a la función `clean_user`, pasando el usuario, `name_index`, `age_index` y `cat_index` para especificar los índices correctos para el nombre, la edad y las categorías, respectivamente.\n",
        "\n",
        "5. Guarda cada nuevo usuario limpio en la lista nueva `users_cleaned`.\n",
        "\n",
        "Muestra en pantalla la lista `users_cleaned` para asegurarte de que tu código realiza las respectivas transformaciones."
      ],
      "metadata": {
        "id": "Xh_3LfCt7A9U"
      }
    },
    {
      "cell_type": "markdown",
      "source": [
        "<div style=\"background-color:#e0f0ff; padding:10px; border-radius:8px;\">\n",
        "  Quise implementar dos funciones distintas para hacer la misma función, veo que la primera itera en cada lista de la lista principal y realiza el proceso con ayuda de un ciclo for, es decir, en vez de la función hacer que la variables (la lista de listas) itere dentro de la función, la función simplemnete actúa sobre cada sublista de manera iterada con ayuda de un ciclo for externo, sin embargo, quise implemntar una función que iterara la variable lista de listas completa.\n",
        "</div>"
      ],
      "metadata": {
        "id": "BgX8BZOq1LfB"
      }
    },
    {
      "cell_type": "markdown",
      "source": [
        "# Paso 5\n",
        "\n",
        "La empresa desea conocer sus ingresos totales y te pide que proporciones este valor.\n",
        "Para calcular los ingresos de la empresa, sigue estos pasos:\n",
        "\n",
        "1. Utiliza `for` para iterar sobre la lista `users`.\n",
        "2. Extrae la lista de gastos de cada usuario y suma los valores.\n",
        "3. Actualiza el valor de los ingresos con el total de cada usuario.\n",
        "\n",
        "Así obtendrás los ingresos totales de la empresa que mostrarás en la pantalla al final."
      ],
      "metadata": {
        "id": "MKHTDyCU3EOo"
      }
    },
    {
      "cell_type": "code",
      "source": [
        "users = [['32415', ['mike', 'reed'], 32, ['electronics', 'sport', 'books'], [894, 213, 173]],\n",
        "         ['31980', ['kate', 'morgan'], 24, ['clothes', 'books'], [439, 390]],\n",
        "         ['32156', ['john', 'doe'], 37, ['electronics', 'home', 'food'], [459, 120, 99]],\n",
        "         ['32761', ['samantha', 'smith'], 29, ['clothes', 'electronics', 'beauty'], [299, 679, 85]],\n",
        "         ['32984', ['david', 'white'], 41, ['books', 'home', 'sport'], [234, 329, 243]],\n",
        "         ['33001', ['emily', 'brown'], 26, ['beauty', 'home', 'food'], [213, 659, 79]],\n",
        "         ['33767', ['maria', 'garcia'], 33, ['clothes', 'food', 'beauty'], [499, 189, 63]],\n",
        "         ['33912', ['jose', 'martinez'], 22, ['sport', 'electronics', 'home'], [259, 549, 109]],\n",
        "         ['34009', ['lisa', 'wilson'], 35, ['home', 'books', 'clothes'], [329, 189, 329]],\n",
        "         ['34278', ['james', 'lee'], 28, ['beauty', 'clothes', 'electronics'], [189, 299, 579]]]\n",
        "\n",
        "revenue = 0\n",
        "\n",
        "for user in users:\n",
        "    gastos = user[4]\n",
        "    revenue += sum(gastos)\n",
        "\n",
        "print(revenue)\n",
        "\n",
        "a = sum([894, 213, 173, 439, 390, 459, 120, 99, 299, 679, 85, 234, 329, 243, 213, 659, 79, 499, 189, 63, 259, 549, 109, 329, 189, 329, 189, 299, 579])\n",
        "print(a)"
      ],
      "metadata": {
        "id": "CtBBH2-f3Eo4",
        "colab": {
          "base_uri": "https://localhost:8080/"
        },
        "outputId": "6d0bc759-79a4-4fe3-9bb4-94e500c26176"
      },
      "execution_count": null,
      "outputs": [
        {
          "output_type": "stream",
          "name": "stdout",
          "text": [
            "9189\n",
            "9189\n"
          ]
        }
      ]
    },
    {
      "cell_type": "markdown",
      "source": [
        "****Pista****\n",
        "\n",
        "Para extraer la lista de gastos realizados por un usuario, utiliza la indexación y asígnala a la variable spendings_list. Luego, utiliza la función integrada para calcular la suma de spending_list. Por último, actualiza el valor de revenue añadiéndole total_spendings mediante la asignación aumentada."
      ],
      "metadata": {
        "id": "cpDLUAZF3IxR"
      }
    },
    {
      "cell_type": "markdown",
      "source": [
        "<div style=\"background-color:#e0f0ff; padding:10px; border-radius:8px;\">\n",
        "   Implementé la funcionalidad de suma de gastos con un ciclo for, al final revisé si la suma era congruente con lo que se pedía\n",
        "</div>"
      ],
      "metadata": {
        "id": "KiwcNHb3CUjd"
      }
    },
    {
      "cell_type": "markdown",
      "source": [
        "# Paso 6\n",
        "\n",
        "La empresa quiere ofrecer descuentos a sus clientes leales. Los clientes que realizan compras por un importe total mayor a $1500 se consideran leales y recibirán un descuento.\n",
        "\n",
        "Nuestro objetivo es crear un bucle `while` que compruebe el importe total gastado y se detenga al alcanzarlo. Para simular nuevas compras, la variable `new_purchase` genera un número entre 30 y 80 en cada iteración del bucle. Esto representa la cantidad de dinero gastada en una nueva compra y es lo que debes agregar al total.\n",
        "\n",
        "Una vez que se alcance el importe objetivo y se termine el bucle `while`, se mostrará la cantidad final."
      ],
      "metadata": {
        "id": "vUS0KPjk3QQA"
      }
    },
    {
      "cell_type": "code",
      "source": [
        "from random import randint\n",
        "\n",
        "total_amount_spent = 1280\n",
        "target_amount = 1500\n",
        "\n",
        "while total_amount_spent < target_amount:# escribe tu código aquí\n",
        "\tnew_purchase = randint(30, 80) # generamos un número aleatorio de 30 a 80\n",
        "\ttotal_amount_spent +=  new_purchase # escribe tu código aquí\n",
        "\n",
        "print(total_amount_spent)"
      ],
      "metadata": {
        "colab": {
          "base_uri": "https://localhost:8080/"
        },
        "id": "GoOFe1uW3Qsi",
        "outputId": "6e115a0a-600c-40b1-9595-2f7e21a1125d"
      },
      "execution_count": null,
      "outputs": [
        {
          "output_type": "stream",
          "name": "stdout",
          "text": [
            "1564\n"
          ]
        }
      ]
    },
    {
      "cell_type": "markdown",
      "source": [
        "********Pista********\n",
        "\n",
        "En el bucle `while`, debes comparar `total_amount_spent` (importe total gastado) con `target_amount` (importe objetivo). Durante cada iteración del bucle, actualiza la variable `total_amount_spent` agregándole el valor `new_purchase`."
      ],
      "metadata": {
        "id": "Z6TVZbuW3U4A"
      }
    },
    {
      "cell_type": "markdown",
      "source": [
        "<div style=\"background-color:#e0f0ff; padding:10px; border-radius:8px;\">\n",
        "   Implementé la funcionalidad en el ciclo while, si bien obtiene valores por encima a 1500 se debe a la funcion randint\n",
        "</div>"
      ],
      "metadata": {
        "id": "nuRQ27n9ED31"
      }
    },
    {
      "cell_type": "markdown",
      "source": [
        "# Paso 7\n",
        "\n",
        "Recorre la lista de usuarios que te hemos proporcionado y muestra los nombres de los clientes menores de 30 años.\n"
      ],
      "metadata": {
        "id": "bTSRyAlI3dl-"
      }
    },
    {
      "cell_type": "code",
      "source": [
        "from pprint import pprint\n",
        "\n",
        "users = [['32415', ['mike', 'reed'], 32, ['electronics', 'sport', 'books'], [894, 213, 173]],\n",
        "         ['31980', ['kate', 'morgan'], 24, ['clothes', 'books'], [439, 390]],\n",
        "         ['32156', ['john', 'doe'], 37, ['electronics', 'home', 'food'], [459, 120, 99]],\n",
        "         ['32761', ['samantha', 'smith'], 29, ['clothes', 'electronics', 'beauty'], [299, 679, 85]],\n",
        "         ['32984', ['david', 'white'], 41, ['books', 'home', 'sport'], [234, 329, 243]],\n",
        "         ['33001', ['emily', 'brown'], 26, ['beauty', 'home', 'food'], [213, 659, 79]],\n",
        "         ['33767', ['maria', 'garcia'], 33, ['clothes', 'food', 'beauty'], [499, 189, 63]],\n",
        "         ['33912', ['jose', 'martinez'], 22, ['sport', 'electronics', 'home'], [259, 549, 109]],\n",
        "         ['34009', ['lisa', 'wilson'], 35, ['home', 'books', 'clothes'], [329, 189, 329]],\n",
        "         ['34278', ['james', 'lee'], 28, ['beauty', 'clothes', 'electronics'], [189, 299, 579]]]\n",
        "\n",
        "for user in users:\n",
        "  if user[2] >= 30:\n",
        "     nombre = \" \".join(user[1])\n",
        "     print(nombre)"
      ],
      "metadata": {
        "colab": {
          "base_uri": "https://localhost:8080/"
        },
        "id": "WCFOLP2jIXJw",
        "outputId": "86782c00-58d3-4680-85fc-d43658947bd8"
      },
      "execution_count": null,
      "outputs": [
        {
          "output_type": "stream",
          "name": "stdout",
          "text": [
            "mike reed\n",
            "john doe\n",
            "david white\n",
            "maria garcia\n",
            "lisa wilson\n"
          ]
        }
      ]
    },
    {
      "cell_type": "markdown",
      "source": [
        "********Pista********\n",
        "\n",
        "Utiliza el bucle for para iterar sobre cada fila de la tabla. Utiliza `if` dentro de un bucle `for` para imprimir el nombre de usuario o usuaria. El campo `age` tiene el índice 2"
      ],
      "metadata": {
        "id": "jz54CdfE3i1b"
      }
    },
    {
      "cell_type": "markdown",
      "source": [
        "<div style=\"background-color:#e0f0ff; padding:10px; border-radius:8px;\">\n",
        "   Implementé la funcionalidad en el ciclo for, luego con el condicional se ajusta para que solo se tengan en cuenta los usuarios mayores a 30, la función join une la lista como un string para luego mostrarlo en pantalla con un print.\n",
        "</div>"
      ],
      "metadata": {
        "id": "7OMaa3CtJTU6"
      }
    },
    {
      "cell_type": "markdown",
      "source": [
        "# Paso 8\n",
        "\n",
        "Mostremos en pantalla los nombres de los usuarios menores de 30 años que acumulan un gasto total superior a 1000 dólares."
      ],
      "metadata": {
        "id": "CtyqQ5sz3mUM"
      }
    },
    {
      "cell_type": "code",
      "source": [
        "users = [['32415', ['mike', 'reed'], 32, ['electronics', 'sport', 'books'], [894, 213, 173]],\n",
        "         ['31980', ['kate', 'morgan'], 24, ['clothes', 'books'], [439, 390]],\n",
        "         ['32156', ['john', 'doe'], 37, ['electronics', 'home', 'food'], [459, 120, 99]],\n",
        "         ['32761', ['samantha', 'smith'], 29, ['clothes', 'electronics', 'beauty'], [299, 679, 85]],\n",
        "         ['32984', ['david', 'white'], 41, ['books', 'home', 'sport'], [234, 329, 243]],\n",
        "         ['33001', ['emily', 'brown'], 26, ['beauty', 'home', 'food'], [213, 659, 79]],\n",
        "         ['33767', ['maria', 'garcia'], 33, ['clothes', 'food', 'beauty'], [499, 189, 63]],\n",
        "         ['33912', ['jose', 'martinez'], 22, ['sport', 'electronics', 'home'], [259, 549, 109]],\n",
        "         ['34009', ['lisa', 'wilson'], 35, ['home', 'books', 'clothes'], [329, 189, 329]],\n",
        "         ['34278', ['james', 'lee'], 28, ['beauty', 'clothes', 'electronics'], [189, 299, 579]]]\n",
        "\n",
        "for user in users:\n",
        "  if user[2] <= 30 and sum(user[4]) >= 1000:\n",
        "     nombre = \" \".join(user[1])\n",
        "     suma = sum(user[4])\n",
        "     print(nombre)\n",
        "     print(suma) # escribe tu código aquí"
      ],
      "metadata": {
        "id": "TMFnj9HW3oc9",
        "colab": {
          "base_uri": "https://localhost:8080/"
        },
        "outputId": "95e0793c-22c6-49de-cb76-f566e60ea6a4"
      },
      "execution_count": null,
      "outputs": [
        {
          "output_type": "stream",
          "name": "stdout",
          "text": [
            "samantha smith\n",
            "1063\n",
            "james lee\n",
            "1067\n"
          ]
        }
      ]
    },
    {
      "cell_type": "markdown",
      "source": [
        "********Pista********\n",
        "\n",
        "Utiliza el bucle for para iterar sobre cada fila de la tabla. Utiliza `if` dentro de un bucle `for` para imprimir el nombre de usuario o usuaria. El campo `age` tiene el índice 2. Utiliza la función `sum` para sumar los gastos y luego comprueba si es mayor de 1000 dólares."
      ],
      "metadata": {
        "id": "sHxJazwT3qnD"
      }
    },
    {
      "cell_type": "markdown",
      "source": [
        "<div style=\"background-color:#e0f0ff; padding:10px; border-radius:8px;\">\n",
        "   Implementé la funcionalidad en el ciclo for, luego con el condicional se ajusta para que solo se tengan en cuenta los usuarios menores a 30 con gastos mayores a 1000 con la concatenación \"and\", la función join une la lista como un string para luego mostrar en pantalla con un print el nombre de la persona y la suma de sus gastos, se verifican al final que las sumas sean mayor a 1000 solo por verificar.\n",
        "</div>"
      ],
      "metadata": {
        "id": "wRi49J-dKma5"
      }
    },
    {
      "cell_type": "markdown",
      "source": [
        "# Paso 9\n",
        "\n",
        "Ahora vamos a mostrar el nombre y la edad de todos los usuarios y todas las usuarias que han comprado ropa (\"clothes\"). Imprime el nombre y la edad en la misma declaración print.\n"
      ],
      "metadata": {
        "id": "PA5YpY3_3wT5"
      }
    },
    {
      "cell_type": "code",
      "source": [
        "users = [['32415', ['mike', 'reed'], 32, ['electronics', 'sport', 'books'], [894, 213, 173]],\n",
        "         ['31980', ['kate', 'morgan'], 24, ['clothes', 'books'], [439, 390]],\n",
        "         ['32156', ['john', 'doe'], 37, ['electronics', 'home', 'food'], [459, 120, 99]],\n",
        "         ['32761', ['samantha', 'smith'], 29, ['clothes', 'electronics', 'beauty'], [299, 679, 85]],\n",
        "         ['32984', ['david', 'white'], 41, ['books', 'home', 'sport'], [234, 329, 243]],\n",
        "         ['33001', ['emily', 'brown'], 26, ['beauty', 'home', 'food'], [213, 659, 79]],\n",
        "         ['33767', ['maria', 'garcia'], 33, ['clothes', 'food', 'beauty'], [499, 189, 63]],\n",
        "         ['33912', ['jose', 'martinez'], 22, ['sport', 'electronics', 'home'], [259, 549, 109]],\n",
        "         ['34009', ['lisa', 'wilson'], 35, ['home', 'books', 'clothes'], [329, 189, 329]],\n",
        "         ['34278', ['james', 'lee'], 28, ['beauty', 'clothes', 'electronics'], [189, 299, 579]]]\n",
        "\n",
        "for user in users:\n",
        "    for categoria in user[3]:  # Recorremos las categorías de ese usuario\n",
        "        if categoria == \"clothes\":\n",
        "            nombre = \" \".join(user[1])\n",
        "            edad = user[2]\n",
        "            print(nombre, edad)\n",
        "            break  # Evita imprimir varias veces si hay más de una coincidencia"
      ],
      "metadata": {
        "colab": {
          "base_uri": "https://localhost:8080/"
        },
        "id": "iuBbwxDROZYr",
        "outputId": "3d874ef0-158d-43cf-a50a-e30b7a1f93eb"
      },
      "execution_count": null,
      "outputs": [
        {
          "output_type": "stream",
          "name": "stdout",
          "text": [
            "kate morgan 24\n",
            "samantha smith 29\n",
            "maria garcia 33\n",
            "lisa wilson 35\n",
            "james lee 28\n"
          ]
        }
      ]
    },
    {
      "cell_type": "code",
      "source": [
        "users = [['32415', ['mike', 'reed'], 32, ['electronics', 'sport', 'books'], [894, 213, 173]],\n",
        "         ['31980', ['kate', 'morgan'], 24, ['clothes', 'books'], [439, 390]],\n",
        "         ['32156', ['john', 'doe'], 37, ['electronics', 'home', 'food'], [459, 120, 99]],\n",
        "         ['32761', ['samantha', 'smith'], 29, ['clothes', 'electronics', 'beauty'], [299, 679, 85]],\n",
        "         ['32984', ['david', 'white'], 41, ['books', 'home', 'sport'], [234, 329, 243]],\n",
        "         ['33001', ['emily', 'brown'], 26, ['beauty', 'home', 'food'], [213, 659, 79]],\n",
        "         ['33767', ['maria', 'garcia'], 33, ['clothes', 'food', 'beauty'], [499, 189, 63]],\n",
        "         ['33912', ['jose', 'martinez'], 22, ['sport', 'electronics', 'home'], [259, 549, 109]],\n",
        "         ['34009', ['lisa', 'wilson'], 35, ['home', 'books', 'clothes'], [329, 189, 329]],\n",
        "         ['34278', ['james', 'lee'], 28, ['beauty', 'clothes', 'electronics'], [189, 299, 579]]]\n",
        "\n",
        "for user in users:\n",
        "    categorias = user[3]\n",
        "    if \"clothes\" in categorias:\n",
        "        nombre = \" \".join(user[1])\n",
        "        edad = user[2]\n",
        "        print(nombre, edad) # escribe tu código aquí# escribe tu código aquí"
      ],
      "metadata": {
        "id": "Q21jEXGJ3tUk",
        "colab": {
          "base_uri": "https://localhost:8080/"
        },
        "outputId": "271788ce-61f2-4b68-8b5d-fca0c9c53ca6"
      },
      "execution_count": null,
      "outputs": [
        {
          "output_type": "stream",
          "name": "stdout",
          "text": [
            "kate morgan 24\n",
            "samantha smith 29\n",
            "maria garcia 33\n",
            "lisa wilson 35\n",
            "james lee 28\n"
          ]
        }
      ]
    },
    {
      "cell_type": "markdown",
      "source": [
        "********Pista********\n",
        "\n",
        "Utiliza el bucle for para iterar sobre cada fila de la tabla. A continuación, utiliza otro bucle para comprobar si este usuario ha comprado ropa (\"clothes\") y, en caso afirmativo, muestra el nombre y la edad dentro de la misma declaración print, separándolos por comas: `print(firstname, age)`."
      ],
      "metadata": {
        "id": "4fqTzzeN3zR6"
      }
    },
    {
      "cell_type": "markdown",
      "source": [
        "<div style=\"background-color:#e0f0ff; padding:10px; border-radius:8px;\">\n",
        "   Implementé la funcionalidad en los ciclos for, en donde el primero itera en la tabla y el segundo en la lista buscando la coincidencia de \"clothes\", se declara la variables para la edad y se imprime para cada iteración, en el segundo ejemplo se hace solo con un ciclo declarando directamente que las categorias estan en \"user[3]\" para luego unir el nombre y declarar la edad para mostrar por pantalla.\n",
        "</div>"
      ],
      "metadata": {
        "id": "ah_K77FWOcyC"
      }
    },
    {
      "cell_type": "markdown",
      "source": [
        "# Paso 10\n",
        "\n",
        "La dirección requiere de una función que proporcione información sobre los clientes, incluyendo sus nombres, edades y gasto total, filtrada por categorías específicas. Con base en fragmentos de código anteriores, crearemos una función llamada `get_client_by_cat` con las siguientes especificaciones:\n",
        "\n",
        "1. **Parámetros:**\n",
        "   - **users:** una lista con los datos de los usuarios.\n",
        "   - **id_index:** el índice donde está almacenado el ID del cliente en la lista de usuarios.\n",
        "   - **name_index:** el índice donde está almacenado el nombre del cliente en la lista de usuarios.\n",
        "   - **age_index:** el índice donde la edad del cliente está almacenada en la lista de usuarios.\n",
        "   - **category_index:** el índice donde las categorías de compras del cliente están listadas.\n",
        "   - **amounts_index:** el índice donde las cantidades gastadas en cada categoría están almacenadas.\n",
        "   - **filter_category:** un string que representa el nombre de la categoría para filtrar clientes.\n",
        "\n",
        "2. **Salida:**\n",
        "   - La función devuelve una lista de sublistas. Cada sublista contiene:\n",
        "     - El número ID del cliente.\n",
        "     - Una sublista con el nombre y apellido del cliente.\n",
        "     - La edad del cliente.\n",
        "     - Un entero que representa la cantidad total gastada por el cliente.\n",
        "\n",
        "Por ejemplo, si llamas a la función con los siguientes parámetros:\n",
        "\n",
        "\n",
        "```python\n",
        "get_client_by_cat([\n",
        "    ['32415', ['mike', 'reed'], 32, ['electronics', 'sport', 'books'], [894, 213, 173]]\n",
        "], 0, 1, 2, 3, 4, 'books')\n",
        "```\n",
        "\n",
        "La salida será:\n",
        "\n",
        "```python\n",
        "[['32415', ['mike', 'reed'], 32, 1280]]\n",
        "```\n",
        "\n",
        "Esta salida muestra que el cliente con el ID '32415', llamado Mike Reed, de 32 años, gastó un total de 1280 en la categoría 'books' y otras compras.\n",
        "\n",
        "Después de hacer tu función, llámala pasándole nuestra lista de usuarios, los índices adecuados y la categoría 'home' y muestra en pantalla la lista que resulta."
      ],
      "metadata": {
        "id": "vsUwRBiG4C7C"
      }
    },
    {
      "cell_type": "code",
      "source": [
        "from pprint import pprint\n",
        "\n",
        "def get_client_by_cat(users_list, id_index, name_index, age_index, category_index, amounts_index, filter_category):\n",
        "  resultado = []\n",
        "  for user in users_list:\n",
        "    if filter_category in user[category_index]: #Filtra por la categoria seleccionada\n",
        "      id = user[id_index]\n",
        "      name_array = user[name_index]\n",
        "      age = user[age_index]\n",
        "      amounts = user[amounts_index]\n",
        "      total_amount = sum(amounts)\n",
        "      resultado.append([id, name_array, age, total_amount]) #Acá se almacena la lista en la lista vacia resultado para cada ciclo\n",
        "  return resultado # escribe tu código aquí\n",
        "\n",
        "# La lista de usuarios\n",
        "users = [\n",
        "    ['32415', ['mike', 'reed'], 32, ['electronics', 'sport', 'books'], [894, 213, 173]],\n",
        "    ['31980', ['kate', 'morgan'], 24, ['clothes', 'books'], [439, 390]],\n",
        "    ['32156', ['john', 'doe'], 37, ['electronics', 'home', 'food'], [459, 120, 99]],\n",
        "    ['32761', ['samantha', 'smith'], 29, ['clothes', 'electronics', 'beauty'], [299, 679, 85]],\n",
        "    ['32984', ['david', 'white'], 41, ['books', 'home', 'sport'], [234, 329, 243]],\n",
        "    ['33001', ['emily', 'brown'], 26, ['beauty', 'home', 'food'], [213, 659, 79]],\n",
        "    ['33767', ['maria', 'garcia'], 33, ['clothes', 'food', 'beauty'], [499, 189, 63]],\n",
        "    ['33912', ['jose', 'martinez'], 22, ['sport', 'electronics', 'home'], [259, 549, 109]],\n",
        "    ['34009', ['lisa', 'wilson'], 35, ['home', 'books', 'clothes'], [329, 189, 329]],\n",
        "    ['34278', ['james', 'lee'], 28, ['beauty', 'clothes', 'electronics'], [189, 299, 579]]\n",
        "]\n",
        "\n",
        "# Llama a la función con la categoría 'home'\n",
        "result = get_client_by_cat(users, 0, 1, 2, 3, 4, \"home\")# escribe tu código aquí\n",
        "\n",
        "# Muestra en pantalla la lista que resulta\n",
        "pprint(result)"
      ],
      "metadata": {
        "id": "M_himaweGuDy",
        "colab": {
          "base_uri": "https://localhost:8080/"
        },
        "outputId": "9f527099-6556-42a8-d4e5-65de70913cf3"
      },
      "execution_count": null,
      "outputs": [
        {
          "output_type": "stream",
          "name": "stdout",
          "text": [
            "[['32156', ['john', 'doe'], 37, 678],\n",
            " ['32984', ['david', 'white'], 41, 806],\n",
            " ['33001', ['emily', 'brown'], 26, 951],\n",
            " ['33912', ['jose', 'martinez'], 22, 917],\n",
            " ['34009', ['lisa', 'wilson'], 35, 847]]\n"
          ]
        }
      ]
    },
    {
      "cell_type": "code",
      "source": [],
      "metadata": {
        "id": "eHIwgNTT5ntT"
      },
      "execution_count": null,
      "outputs": []
    },
    {
      "cell_type": "code",
      "source": [
        "from pprint import pprint\n",
        "\n",
        "def get_client_by_cat(users_list, category_index, filter_category):\n",
        "  new_list = []\n",
        "  for user in users_list:\n",
        "    if filter_category in user[category_index]:\n",
        "      id = user[0]\n",
        "      name_array = user[1]\n",
        "      age = user[2]\n",
        "      bills_sum = sum(user[4])\n",
        "      new_list.append([id, name_array, age, bills_sum])# escribe tu código aquí\n",
        "  return new_list # escribe tu código aquí\n",
        "\n",
        "# La lista de usuarios\n",
        "users = [\n",
        "    ['32415', ['mike', 'reed'], 32, ['electronics', 'sport', 'books'], [894, 213, 173]],\n",
        "    ['31980', ['kate', 'morgan'], 24, ['clothes', 'books'], [439, 390]],\n",
        "    ['32156', ['john', 'doe'], 37, ['electronics', 'home', 'food'], [459, 120, 99]],\n",
        "    ['32761', ['samantha', 'smith'], 29, ['clothes', 'electronics', 'beauty'], [299, 679, 85]],\n",
        "    ['32984', ['david', 'white'], 41, ['books', 'home', 'sport'], [234, 329, 243]],\n",
        "    ['33001', ['emily', 'brown'], 26, ['beauty', 'home', 'food'], [213, 659, 79]],\n",
        "    ['33767', ['maria', 'garcia'], 33, ['clothes', 'food', 'beauty'], [499, 189, 63]],\n",
        "    ['33912', ['jose', 'martinez'], 22, ['sport', 'electronics', 'home'], [259, 549, 109]],\n",
        "    ['34009', ['lisa', 'wilson'], 35, ['home', 'books', 'clothes'], [329, 189, 329]],\n",
        "    ['34278', ['james', 'lee'], 28, ['beauty', 'clothes', 'electronics'], [189, 299, 579]]\n",
        "]\n",
        "\n",
        "# Llama a la función con la categoría 'home'\n",
        "result = get_client_by_cat(users, 3, \"books\")# escribe tu código aquí\n",
        "\n",
        "# Muestra en pantalla la lista que resulta\n",
        "pprint(result)\n"
      ],
      "metadata": {
        "id": "2lTB747T34zB",
        "colab": {
          "base_uri": "https://localhost:8080/"
        },
        "outputId": "60b8dbec-6de6-441d-d5f4-261555aa13a3"
      },
      "execution_count": null,
      "outputs": [
        {
          "output_type": "stream",
          "name": "stdout",
          "text": [
            "[['32415', ['mike', 'reed'], 32, 1280],\n",
            " ['31980', ['kate', 'morgan'], 24, 829],\n",
            " ['32984', ['david', 'white'], 41, 806],\n",
            " ['34009', ['lisa', 'wilson'], 35, 847]]\n"
          ]
        }
      ]
    },
    {
      "cell_type": "code",
      "source": [
        "from pprint import pprint\n",
        "\n",
        "def get_client_by_cat(users_list, category_index, filter_category):\n",
        "      return [\n",
        "          [user[0], user[1], user[2], sum(user[4])]\n",
        "          for user in users_list if filter_category in user[category_index]\n",
        "      ]\n",
        "\n",
        "# Lista de usuarios\n",
        "users = [\n",
        "    ['32415', ['mike', 'reed'], 32, ['electronics', 'sport', 'books'], [894, 213, 173]],\n",
        "    ['31980', ['kate', 'morgan'], 24, ['clothes', 'books'], [439, 390]],\n",
        "    ['32156', ['john', 'doe'], 37, ['electronics', 'home', 'food'], [459, 120, 99]],\n",
        "    ['32761', ['samantha', 'smith'], 29, ['clothes', 'electronics', 'beauty'], [299, 679, 85]],\n",
        "    ['32984', ['david', 'white'], 41, ['books', 'home', 'sport'], [234, 329, 243]],\n",
        "    ['33001', ['emily', 'brown'], 26, ['beauty', 'home', 'food'], [213, 659, 79]],\n",
        "    ['33767', ['maria', 'garcia'], 33, ['clothes', 'food', 'beauty'], [499, 189, 63]],\n",
        "    ['33912', ['jose', 'martinez'], 22, ['sport', 'electronics', 'home'], [259, 549, 109]],\n",
        "    ['34009', ['lisa', 'wilson'], 35, ['home', 'books', 'clothes'], [329, 189, 329]],\n",
        "    ['34278', ['james', 'lee'], 28, ['beauty', 'clothes', 'electronics'], [189, 299, 579]]\n",
        "]\n",
        "\n",
        "# Llamada e impresión\n",
        "pprint(get_client_by_cat(users, 3, \"books\"))"
      ],
      "metadata": {
        "colab": {
          "base_uri": "https://localhost:8080/"
        },
        "id": "4jULggDaFtpz",
        "outputId": "7552f54d-852a-433d-a71f-faebb925a1d5"
      },
      "execution_count": null,
      "outputs": [
        {
          "output_type": "stream",
          "name": "stdout",
          "text": [
            "[['32415', ['mike', 'reed'], 32, 1280],\n",
            " ['31980', ['kate', 'morgan'], 24, 829],\n",
            " ['32984', ['david', 'white'], 41, 806],\n",
            " ['34009', ['lisa', 'wilson'], 35, 847]]\n"
          ]
        }
      ]
    },
    {
      "cell_type": "markdown",
      "source": [
        "********Pista********\n",
        "\n",
        "Utiliza un bucle for para iterar sobre cada usuario en la lista. Para cada usuario, verifica que la categoría deseada (\"filter_category\") esté en su lista de categorías de compras. Si se encuentra la categoría, calcula la cantidad total gastada sumando las cantidades en la lista correspondiente. Después, crea una sublista con el ID, nombre (como una lista de nombres y apellidos), edad y cantidad total gastada del usuario. Añade esta sublista a la lista final que resulta."
      ],
      "metadata": {
        "id": "ZKZqWLx44JjG"
      }
    },
    {
      "cell_type": "markdown",
      "source": [
        "<div style=\"background-color:#e0f0ff; padding:10px; border-radius:8px;\">\n",
        "   Quise realizar tres ejemplos distintos, si bien el primero ejemplo sirve para dar a entender correctamente el principio de indexación en los estudiantes quise realizar dos ejemplos más con el código más compacto ya que el conocer la dispocisión original de los datos, es decir, en que indices se uvica la información me permite declarar esa información al principio de mi función.\n",
        "</div>"
      ],
      "metadata": {
        "id": "5IrgtS549Vt2"
      }
    },
    {
      "cell_type": "code",
      "source": [],
      "metadata": {
        "id": "xU9X38iA9WKs"
      },
      "execution_count": null,
      "outputs": []
    }
  ]
}