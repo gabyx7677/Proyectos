{
  "nbformat": 4,
  "nbformat_minor": 0,
  "metadata": {
    "colab": {
      "provenance": [],
      "authorship_tag": "ABX9TyOrrqRVp6E4KsREnbHRUszY",
      "include_colab_link": true
    },
    "kernelspec": {
      "name": "python3",
      "display_name": "Python 3"
    },
    "language_info": {
      "name": "python"
    }
  },
  "cells": [
    {
      "cell_type": "markdown",
      "metadata": {
        "id": "view-in-github",
        "colab_type": "text"
      },
      "source": [
        "<a href=\"https://colab.research.google.com/github/gabyx7677/Proyectos/blob/Proyectos-generales/ProyectoSprint2.ipynb\" target=\"_parent\"><img src=\"https://colab.research.google.com/assets/colab-badge.svg\" alt=\"Open In Colab\"/></a>"
      ]
    },
    {
      "cell_type": "markdown",
      "source": [
        "# Paso 1\n",
        "En la última tarea de la primera parte de este proyecto escribiste código para:\n",
        "\n",
        "- Eliminar todos los espacios iniciales y finales de los nombres, así como cualquier guion bajo.\n",
        "- Convertir todas las edades en números enteros.\n",
        "- Separar todos los nombres y apellidos en una sublista.\n",
        "\n",
        "Hagámoslo ahora una función para que podamos usarla para fijar a cualquier cliente. Nombra a tu función clean_user. Debe recibir una lista con toda la información del cliente (user_info), así como dos enteros. Uno de ellos señala el índice del nombre del cliente y el otro es el índice de la edad del cliente en la lista. Debe devolver la lista limpia después de aplicar todos los cambios anteriores. Pruébala llamándola, pasándole la lista test_user[] y luego muéstrala en pantalla."
      ],
      "metadata": {
        "id": "5hL7QJBPzeJ2"
      }
    },
    {
      "cell_type": "code",
      "source": [
        "#Propuesto\n",
        "\n",
        "def clean_user(user_info, name_client_index, age_client_index): # define tu función aquí\n",
        "\n",
        "    # Paso 1: elimina del nombre espacios iniciales y finales, así como guiones\n",
        "    user_name_1 = user_info[name_client_index].strip().replace('_', ' ')\n",
        "\n",
        "    # Paso 2: convierte la edad en entero\n",
        "    user_age_1 = int(user_info[age_client_index])\n",
        "\n",
        "    # Paso 3: separa el nombre y el apellido en una sublista\n",
        "    user_name_1 = user_name_1.split()\n",
        "\n",
        "    # Prepara la lista con la información completa del usuario\n",
        "    # Reemplaza el nombre y la edad originales con los datos limpios\n",
        "    user_info[0] = user_info[0]\n",
        "    user_info[1] = user_name_1\n",
        "    user_info[2] = user_age_1\n",
        "    user_info[3] = [user_info[3]]\n",
        "    user_info[4] = [user_info[4]]\n",
        "\n",
        "    return [user_info[0], user_info[1], user_info[2], user_info[3], user_info[4]]\n",
        "\n",
        "# Prueba la función\n",
        "test_user = ['32415', ' mike_reed ', 32.0, ['ELECTRONICS', 'SPORT', 'BOOKS'], [894, 213, 173]]\n",
        "name_index = 1\n",
        "age_index = 2\n",
        "\n",
        "print(clean_user(test_user, name_index, age_index)) # completa aquí el llamado de la función"
      ],
      "metadata": {
        "id": "CjyGyQoLzanR",
        "colab": {
          "base_uri": "https://localhost:8080/"
        },
        "outputId": "c1a5eb06-fecb-4da1-e73e-c062d42fea5a"
      },
      "execution_count": 28,
      "outputs": [
        {
          "output_type": "stream",
          "name": "stdout",
          "text": [
            "['32415', ['mike', 'reed'], 32, [['ELECTRONICS', 'SPORT', 'BOOKS']], [[894, 213, 173]]]\n"
          ]
        }
      ]
    },
    {
      "cell_type": "code",
      "source": [
        "#Presentado\n",
        "\n",
        "from pprint import pprint\n",
        "\n",
        "def clean_user1(user_info, name_client_index, age_client_index): # define tu función aquí\n",
        "\n",
        "    # Paso 1: elimina del nombre espacios iniciales y finales, así como guiones\n",
        "    user_name_1 = user_info[name_client_index].strip().replace('_', ' ')\n",
        "\n",
        "    # Paso 2: convierte la edad en entero\n",
        "    user_age_1 = int(user_info[age_client_index])\n",
        "\n",
        "    # Paso 3: separa el nombre y el apellido en una sublista\n",
        "    user_name_1 = user_name_1.split()\n",
        "\n",
        "    # Prepara la lista con la información completa del usuario\n",
        "    # Reemplaza el nombre y la edad originales con los datos limpios\n",
        "    id = user_info[0]\n",
        "    user_name_1\n",
        "    user_age_1\n",
        "    preferences= [user_info[3]]\n",
        "    amount = [user_info[4]]\n",
        "\n",
        "    return [id, user_name_1, user_age_1, preferences, amount]\n",
        "\n",
        "# Prueba la función\n",
        "test_user = ['32415', ' mike_reed ', 32.0, ['ELECTRONICS', 'SPORT', 'BOOKS'], [894, 213, 173]]\n",
        "name_index = 1\n",
        "age_index = 2\n",
        "\n",
        "print(\"Función 1:\")\n",
        "print()\n",
        "print(clean_user1(test_user, name_index, age_index)) # completa aquí el llamado de la función\n",
        "print()\n",
        "\n",
        "def clean_user2(user_info, name_client_index, age_client_index): # define tu función aquí\n",
        "    users_cleaned = [] #Crea una lista vacia donde almacenar los datos limpios\n",
        "    for user in user_info: #Recorre la lista por cada uno de sus indices\n",
        "        # Paso 1: elimina del nombre espacios iniciales y finales, así como guiones\n",
        "        user_name_1 = user[name_client_index].strip().replace('_', ' ')\n",
        "\n",
        "        # Paso 2: convierte la edad en entero\n",
        "        user_age_1 = int(user[age_client_index])\n",
        "\n",
        "        # Paso 3: separa el nombre y el apellido en una sublista\n",
        "        user_name_1 = user_name_1.split()\n",
        "\n",
        "        # Prepara la lista con la información completa del usuario\n",
        "        # Reemplaza el nombre y la edad originales con los datos limpios\n",
        "        id = user[0]\n",
        "        user_name = user_name_1\n",
        "        user_age = user_age_1\n",
        "        preferences = user[3]\n",
        "        amount = user[4]\n",
        "        users_cleaned.append([id, user_name, user_age, preferences, amount])\n",
        "    return users_cleaned\n",
        "\n",
        "# Prueba la función\n",
        "test_user = [\n",
        "    ['91827', ' alice_wong ', 25.0, ['MUSIC', 'TRAVEL', 'BOOKS'], [634, 199, 821]],\n",
        "    ['96548', ' bruno_mars_77 ', 34.0, ['TECH', 'SPORTS', 'MOVIES'], [723, 284, 192]],\n",
        "    ['85677', ' natalie_porter_999 ', 19.0, ['COOKING', 'MUSIC', 'ART'], [801, 390, 245]],\n",
        "    ['71547', ' samuel_ortiz ', 45.0, ['DOCUMENTARIES', 'NATURE', 'BOOKS'], [945, 612, 778]],\n",
        "    ['14567', ' valeria_montes_', 31.0, ['PHOTOGRAPHY', 'FASHION', 'BOOKS'], [768, 234, 166]]\n",
        "]\n",
        "name_index = 1\n",
        "age_index = 2\n",
        "\n",
        "print(\"Función 2:\")\n",
        "print()\n",
        "pprint(clean_user2(test_user, name_index, age_index)) # completa aquí el llamado de la función"
      ],
      "metadata": {
        "colab": {
          "base_uri": "https://localhost:8080/"
        },
        "id": "WyzcwwonqfAK",
        "outputId": "c0e3d589-dcb5-4068-a707-d832df90d3a9"
      },
      "execution_count": 88,
      "outputs": [
        {
          "output_type": "stream",
          "name": "stdout",
          "text": [
            "Función 1:\n",
            "\n",
            "['32415', ['mike', 'reed'], 32, [['ELECTRONICS', 'SPORT', 'BOOKS']], [[894, 213, 173]]]\n",
            "\n",
            "Función 2:\n",
            "\n",
            "[['91827',\n",
            "  ['alice', 'wong'],\n",
            "  25,\n",
            "  ['MUSIC', 'TRAVEL', 'BOOKS'],\n",
            "  [634, 199, 821]],\n",
            " ['96548',\n",
            "  ['bruno', 'mars', '77'],\n",
            "  34,\n",
            "  ['TECH', 'SPORTS', 'MOVIES'],\n",
            "  [723, 284, 192]],\n",
            " ['85677',\n",
            "  ['natalie', 'porter', '999'],\n",
            "  19,\n",
            "  ['COOKING', 'MUSIC', 'ART'],\n",
            "  [801, 390, 245]],\n",
            " ['71547',\n",
            "  ['samuel', 'ortiz'],\n",
            "  45,\n",
            "  ['DOCUMENTARIES', 'NATURE', 'BOOKS'],\n",
            "  [945, 612, 778]],\n",
            " ['14567',\n",
            "  ['valeria', 'montes'],\n",
            "  31,\n",
            "  ['PHOTOGRAPHY', 'FASHION', 'BOOKS'],\n",
            "  [768, 234, 166]]]\n"
          ]
        }
      ]
    },
    {
      "cell_type": "markdown",
      "source": [
        "****Pista****\n",
        "\n",
        "Para implementar la función clean_user, efectúa los siguientes pasos:\n",
        "\n",
        "Recortar y reemplazar: utiliza strip() para eliminar espacios iniciales y finales del nombre del usuario y replace('_', ' ') para eliminar guiones bajos con espacios.\n",
        "Convertir la edad: convierte la edad en entero utilizando la función int().\n",
        "Separar el nombre: utiliza el método split() para separar el nombre y el apellido, creando una sublista.\n",
        "Asegúrate de modificar la lista user_info que aparece actualizando el nombre y la edad con los datos limpios antes de devolver la lista. Prueba tu función con un usuario de ejemplo para verificar que funciona correctamente."
      ],
      "metadata": {
        "id": "JicfZchVzt7v"
      }
    },
    {
      "cell_type": "markdown",
      "source": [
        "<div style=\"background-color:#e0f0ff; padding:10px; border-radius:8px;\">\n",
        "  Decidí realizar el caso más general implementando una función que itere una lista de listas (tabla) y realizara el mismo proceso de limpieza\n",
        "</div>"
      ],
      "metadata": {
        "id": "jevd9jVD1nOC"
      }
    },
    {
      "cell_type": "markdown",
      "source": [
        "# Paso 2\n",
        "\n",
        "Observa que todas las categorías favoritas están almacenadas en mayúsculas. Llena una nueva lista llamada `fav_categories_low` con las mismas categorías, pero en minúsculas, iterando sobre los valores en la lista `fav_categories`, modificándolos y luego añade los nuevos valores a la lista `fav_categories_low`. Como siempre, muestra el resultado final."
      ],
      "metadata": {
        "id": "kVtPEPlEz_FU"
      }
    },
    {
      "cell_type": "code",
      "source": [
        "fav_categories = ['ELECTRONICS', 'SPORT', 'BOOKS']\n",
        "fav_categories_low = []\n",
        "\n",
        "# escribe tu código aquí\n",
        "for categorie in fav_categories:\n",
        "    fav_categories_low.append(categorie.lower())\n",
        "\n",
        "print(fav_categories_low)"
      ],
      "metadata": {
        "id": "wmxR9l6sz1v3",
        "colab": {
          "base_uri": "https://localhost:8080/"
        },
        "outputId": "98750cc0-c2be-4e57-b4ad-5326bf80c600"
      },
      "execution_count": 40,
      "outputs": [
        {
          "output_type": "stream",
          "name": "stdout",
          "text": [
            "['electronics', 'sport', 'books']\n"
          ]
        }
      ]
    },
    {
      "cell_type": "markdown",
      "source": [
        "********Pista********\n",
        "\n",
        "Crea un bucle `for` que itere sobre la lista `fav_categories`. Utiliza el método `lower()` para transformar cada categoría a minúsculas. Luego, utiliza el método `append()` para agregar los valores actualizados a la lista `fav_categories_low`."
      ],
      "metadata": {
        "id": "vfa4KpBi0Fa0"
      }
    },
    {
      "cell_type": "markdown",
      "source": [
        "# Paso 3\n",
        "\n",
        "Ahora hagamos lo mismo, pero para cada uno de los usuarios de la empresa. Llena una lista nueva llamada `users_categories_low` con los mismos usuarios, pero con sus categorías en minúsculas, iterando sobre los valores en la lista `users`, luego itera sobre los valores en `user_categories`, modificándolos, y después agrega los nuevos valores de usuarios a la lista `users_categories_low`. Como siempre, muestra el resultado final."
      ],
      "metadata": {
        "id": "qrXg5v5ps6ac"
      }
    },
    {
      "cell_type": "code",
      "source": [
        "from pprint import pprint\n",
        "users = [\n",
        "    ['32415', ' mike_reed ', 32.0, ['ELECTRONICS', 'SPORT', 'BOOKS'], [894, 213, 173]],\n",
        "    ['31980', 'kate morgan', 24.0, ['CLOTHES', 'BOOKS'], [439, 390]],\n",
        "    ['32156', ' john doe ', 37.0, ['ELECTRONICS', 'HOME', 'FOOD'], [459, 120, 99]],\n",
        "    ['32761', 'SAMANTHA SMITH', 29.0, ['CLOTHES', 'ELECTRONICS', 'BEAUTY'], [299, 679, 85]],\n",
        "    ['32984', 'David White', 41.0, ['BOOKS', 'HOME', 'SPORT'], [234, 329, 243]],\n",
        "    ['33001', 'emily brown', 26.0, ['BEAUTY', 'HOME', 'FOOD'], [213, 659, 79]],\n",
        "    ['33767', ' Maria Garcia', 33.0, ['CLOTHES', 'FOOD', 'BEAUTY'], [499, 189, 63]],\n",
        "    ['33912', 'JOSE MARTINEZ', 22.0, ['SPORT', 'ELECTRONICS', 'HOME'], [259, 549, 109]],\n",
        "    ['34009', 'lisa wilson ', 35.0, ['HOME', 'BOOKS', 'CLOTHES'], [329, 189, 329]],\n",
        "    ['34278', 'James Lee', 28.0, ['BEAUTY', 'CLOTHES', 'ELECTRONICS'], [189, 299, 579]],\n",
        "]\n",
        "\n",
        "users_categories_low_1 = []\n",
        "for user in users:\n",
        "\tcategories_low = []\n",
        "\tfor category in user[3]: # escribe tu código aquí\n",
        "\t\tlowered_category = category.lower()\n",
        "\t\tcategories_low.append(lowered_category)\n",
        "\tuser[3] = categories_low #En este caso se remplaza directamente el valor de user[3] sin necesidad de usar pop() e insert()\n",
        "\tusers_categories_low_1.append(user)\n",
        "\t\t# escribe tu código aquí\n",
        "\n",
        "# escribe tu código aquí\n",
        "\n",
        "print(\"Ciclo 1: user_categories_low_1\")\n",
        "print()\n",
        "pprint(users_categories_low_1)\n",
        "print()\n",
        "print()\n",
        "print()\n",
        "\n",
        "\n",
        "from pprint import pprint\n",
        "\n",
        "users_categories_low_2 = []\n",
        "\n",
        "for user in users:\n",
        "    # Creamos una lista nueva para las categorías en minúsculas\n",
        "    categories_low = []\n",
        "\n",
        "    # Iteramos sobre la lista de categorías (que está en user[3])\n",
        "    for category in user[3]:\n",
        "        lowered_category = category.lower()\n",
        "        categories_low.append(lowered_category)\n",
        "\n",
        "    # Quitamos la lista original de categorías\n",
        "    user.pop(3)\n",
        "                            #En este caso usamos las funciones pop() e insert() para hacer el cambio\n",
        "    # Insertamos la nueva lista en minúsculas en la misma posición\n",
        "    user.insert(3, categories_low)\n",
        "\n",
        "    # Agregamos el usuario actualizado a la lista final\n",
        "    users_categories_low_2.append(user)\n",
        "\n",
        "# Mostramos el resultado\n",
        "print(\"Ciclo 2: user_categories_low_2\")\n",
        "print()\n",
        "pprint(users_categories_low_2)"
      ],
      "metadata": {
        "colab": {
          "base_uri": "https://localhost:8080/"
        },
        "id": "hZRsswyZs67G",
        "outputId": "2ebd43c7-0ec7-413f-8952-e669c450b11d"
      },
      "execution_count": 57,
      "outputs": [
        {
          "output_type": "stream",
          "name": "stdout",
          "text": [
            "Ciclo 1 user_categories_low_1\n",
            "\n",
            "[['32415',\n",
            "  ' mike_reed ',\n",
            "  32.0,\n",
            "  ['electronics', 'sport', 'books'],\n",
            "  [894, 213, 173]],\n",
            " ['31980', 'kate morgan', 24.0, ['clothes', 'books'], [439, 390]],\n",
            " ['32156', ' john doe ', 37.0, ['electronics', 'home', 'food'], [459, 120, 99]],\n",
            " ['32761',\n",
            "  'SAMANTHA SMITH',\n",
            "  29.0,\n",
            "  ['clothes', 'electronics', 'beauty'],\n",
            "  [299, 679, 85]],\n",
            " ['32984', 'David White', 41.0, ['books', 'home', 'sport'], [234, 329, 243]],\n",
            " ['33001', 'emily brown', 26.0, ['beauty', 'home', 'food'], [213, 659, 79]],\n",
            " ['33767',\n",
            "  ' Maria Garcia',\n",
            "  33.0,\n",
            "  ['clothes', 'food', 'beauty'],\n",
            "  [499, 189, 63]],\n",
            " ['33912',\n",
            "  'JOSE MARTINEZ',\n",
            "  22.0,\n",
            "  ['sport', 'electronics', 'home'],\n",
            "  [259, 549, 109]],\n",
            " ['34009', 'lisa wilson ', 35.0, ['home', 'books', 'clothes'], [329, 189, 329]],\n",
            " ['34278',\n",
            "  'James Lee',\n",
            "  28.0,\n",
            "  ['beauty', 'clothes', 'electronics'],\n",
            "  [189, 299, 579]]]\n",
            "\n",
            "\n",
            "\n",
            "Ciclo 2 user_categories_low_2\n",
            "\n",
            "[['32415',\n",
            "  ' mike_reed ',\n",
            "  32.0,\n",
            "  ['electronics', 'sport', 'books'],\n",
            "  [894, 213, 173]],\n",
            " ['31980', 'kate morgan', 24.0, ['clothes', 'books'], [439, 390]],\n",
            " ['32156', ' john doe ', 37.0, ['electronics', 'home', 'food'], [459, 120, 99]],\n",
            " ['32761',\n",
            "  'SAMANTHA SMITH',\n",
            "  29.0,\n",
            "  ['clothes', 'electronics', 'beauty'],\n",
            "  [299, 679, 85]],\n",
            " ['32984', 'David White', 41.0, ['books', 'home', 'sport'], [234, 329, 243]],\n",
            " ['33001', 'emily brown', 26.0, ['beauty', 'home', 'food'], [213, 659, 79]],\n",
            " ['33767',\n",
            "  ' Maria Garcia',\n",
            "  33.0,\n",
            "  ['clothes', 'food', 'beauty'],\n",
            "  [499, 189, 63]],\n",
            " ['33912',\n",
            "  'JOSE MARTINEZ',\n",
            "  22.0,\n",
            "  ['sport', 'electronics', 'home'],\n",
            "  [259, 549, 109]],\n",
            " ['34009', 'lisa wilson ', 35.0, ['home', 'books', 'clothes'], [329, 189, 329]],\n",
            " ['34278',\n",
            "  'James Lee',\n",
            "  28.0,\n",
            "  ['beauty', 'clothes', 'electronics'],\n",
            "  [189, 299, 579]]]\n"
          ]
        }
      ]
    },
    {
      "cell_type": "markdown",
      "source": [
        "********Pista********\n",
        "\n",
        "Crea un bucle `for` que itere sobre la lista `users`. Luego crea otro bucle `for` que itere sobre las categorías de usuarios para acceder al usuario y modificarlo. Utiliza el método `lower()` para transformar cada categoría a minúsculas. Luego, modifica al usuario eliminando la lista de categorías anteriores con `pop()` y con `insert()` inserta la nueva en su lugar. A continuación utiliza el método `append()` para agregar a los usuarios actualizados a la lista `users_categories_low`."
      ],
      "metadata": {
        "id": "LcAW8vnTs_bW"
      }
    },
    {
      "cell_type": "markdown",
      "source": [
        "<div style=\"background-color:#e0f0ff; padding:10px; border-radius:8px;\">\n",
        "  Quise experimentar con los diferentes tipos de formas de hacer que el valor de una lista cambié, ya sea remplazandolo por psos con el método pop() e insert() o inmediatamente usando la variable indexada como es en este caso de la lista category, los resultados son iguales.\n",
        "</div>"
      ],
      "metadata": {
        "id": "_pm6eCal1Uxl"
      }
    },
    {
      "cell_type": "markdown",
      "source": [
        "# Paso 4\n",
        "\n",
        "Ahora, completemos el código de nuestra función `clean_user` para limpiar la categoría:\n",
        "1. Añade otro parámetro con el índice de categorías.\n",
        "2. Pon todos los nombres en minúsculas antes de aplicar \"strip\" y \"replace\".\n",
        "\n",
        "Después, crea un bucle y aplica tu función a toda la lista de usuarios, agregando tus resultados a la lista `users_clean`. Después muéstralo"
      ],
      "metadata": {
        "id": "wJV-u15U68Sp"
      }
    },
    {
      "cell_type": "code",
      "source": [
        "from pprint import pprint\n",
        "\n",
        "\n",
        "def clean_user_1(user_info, name_index, age_index, cat_index):\n",
        "\n",
        "  # Paso 1: pon todo en minúsculas y elimina del nombre espacios iniciales y finales, así como guiones\n",
        "  user_name_1 = user_info[name_index].lower().strip().replace(\"_\", \" \") # escribe tu código aquí\n",
        "\n",
        "  # Paso 2: convierte la edad en entero\n",
        "  user_age_1 = int(user_info[age_index]) # escribe tu código aquí\n",
        "\n",
        "  # Paso 3: separa el nombre y el apellido en una sublista\n",
        "  user_name_1 = user_name_1.split()# escribe tu código aquí\n",
        "\n",
        "  # Paso 4: poner categorías en minúsculas\n",
        "  categories_low = []\n",
        "  for category in user[3]:\n",
        "    lowered_category = category.lower()\n",
        "    categories_low.append(lowered_category)# escribe tu código aquí\n",
        "\n",
        "\n",
        "    id = user_info[0]\n",
        "    user_name_1\n",
        "    user_age_1\n",
        "    categories_low\n",
        "    amount = user_info[4] # Prepara la lista con la información completa del usuario\n",
        "  # Reemplaza el nombre y la edad originales con los datos limpios\n",
        "  # escribe tu código aquí\n",
        "\n",
        "  return [id, user_name_1, user_age_1, categories_low, amount]\n",
        "\n",
        "\n",
        "users = [\n",
        "    ['32415', ' mike_reed ', 32.0, ['ELECTRONICS', 'SPORT', 'BOOKS'], [894, 213, 173]],\n",
        "    ['31980', 'kate morgan', 24.0, ['CLOTHES', 'BOOKS'], [439, 390]],\n",
        "    ['32156', ' john doe ', 37.0, ['ELECTRONICS', 'HOME', 'FOOD'], [459, 120, 99]],\n",
        "    ['32761', 'SAMANTHA SMITH', 29.0, ['CLOTHES', 'ELECTRONICS', 'BEAUTY'], [299, 679, 85]],\n",
        "    ['32984', 'David White', 41.0, ['BOOKS', 'HOME', 'SPORT'], [234, 329, 243]],\n",
        "    ['33001', 'emily brown', 26.0, ['BEAUTY', 'HOME', 'FOOD'], [213, 659, 79]],\n",
        "    ['33767', ' Maria Garcia', 33.0, ['CLOTHES', 'FOOD', 'BEAUTY'], [499, 189, 63]],\n",
        "    ['33912', 'JOSE MARTINEZ', 22.0, ['SPORT', 'ELECTRONICS', 'HOME'], [259, 549, 109]],\n",
        "    ['34009', 'lisa wilson ', 35.0, ['HOME', 'BOOKS', 'CLOTHES'], [329, 189, 329]],\n",
        "    ['34278', 'James Lee', 28.0, ['BEAUTY', 'CLOTHES', 'ELECTRONICS'], [189, 299, 579]],\n",
        "]\n",
        "\n",
        "name_index = 1\n",
        "age_index = 2\n",
        "cat_index = 3\n",
        "users_cleaned_1 = []\n",
        "\n",
        "for user in users:# escribe tu código aquí\n",
        "  user_cleaned = clean_user_1(user, name_index, age_index, cat_index)# escribe tu código aquí\n",
        "  users_cleaned_1.append(user_cleaned)# escribe tu código aquí\n",
        "print(\"Caso 1: usando función clean_user_1\")\n",
        "print()\n",
        "pprint(users_cleaned_1)\n",
        "print()\n",
        "\n",
        "\n",
        "def clean_user_2(user_info, name_index, age_index, cat_index):\n",
        "    users_cleaned = []\n",
        "    for user in user_info:\n",
        "        user_id = user[0]\n",
        "        user_name = user[name_index].lower().strip().replace(\"_\", \" \").split()  # Paso 1: pon todo en minúsculas y elimina del nombre espacios iniciales y finales, así como guiones, tambien parte el string\n",
        "        user_age = int(user[age_index]) # Paso 2: convierte la edad en entero\n",
        "        #categories = [category.lower() for category in user[cat_index]]\n",
        "        categories = [] # Paso 3: hace que las categorias queden en minuscula\n",
        "        for category in user[cat_index]:\n",
        "            categories.append(category.lower())\n",
        "        amounts = user[4]\n",
        "\n",
        "        users_cleaned.append([user_id, user_name, user_age, categories, amounts])\n",
        "    return users_cleaned\n",
        "\n",
        "print(\"Caso 2: usando función clean_user_2\")\n",
        "print()\n",
        "users_cleaned_2 = clean_user_2(users, name_index, age_index, cat_index)\n",
        "pprint(users_cleaned_2)\n"
      ],
      "metadata": {
        "colab": {
          "base_uri": "https://localhost:8080/"
        },
        "id": "9Q5O_tnw68wd",
        "outputId": "8d17c2b3-c295-4aa4-ba06-46c37a91696f"
      },
      "execution_count": 13,
      "outputs": [
        {
          "output_type": "stream",
          "name": "stdout",
          "text": [
            "Caso 1: usando función clean_user_1\n",
            "\n",
            "[['32415',\n",
            "  ['mike', 'reed'],\n",
            "  32,\n",
            "  ['electronics', 'sport', 'books'],\n",
            "  [894, 213, 173]],\n",
            " ['31980', ['kate', 'morgan'], 24, ['clothes', 'books'], [439, 390]],\n",
            " ['32156',\n",
            "  ['john', 'doe'],\n",
            "  37,\n",
            "  ['electronics', 'home', 'food'],\n",
            "  [459, 120, 99]],\n",
            " ['32761',\n",
            "  ['samantha', 'smith'],\n",
            "  29,\n",
            "  ['clothes', 'electronics', 'beauty'],\n",
            "  [299, 679, 85]],\n",
            " ['32984', ['david', 'white'], 41, ['books', 'home', 'sport'], [234, 329, 243]],\n",
            " ['33001', ['emily', 'brown'], 26, ['beauty', 'home', 'food'], [213, 659, 79]],\n",
            " ['33767',\n",
            "  ['maria', 'garcia'],\n",
            "  33,\n",
            "  ['clothes', 'food', 'beauty'],\n",
            "  [499, 189, 63]],\n",
            " ['33912',\n",
            "  ['jose', 'martinez'],\n",
            "  22,\n",
            "  ['sport', 'electronics', 'home'],\n",
            "  [259, 549, 109]],\n",
            " ['34009',\n",
            "  ['lisa', 'wilson'],\n",
            "  35,\n",
            "  ['home', 'books', 'clothes'],\n",
            "  [329, 189, 329]],\n",
            " ['34278',\n",
            "  ['james', 'lee'],\n",
            "  28,\n",
            "  ['beauty', 'clothes', 'electronics'],\n",
            "  [189, 299, 579]]]\n",
            "\n",
            "Caso 2: usando función clean_user_2\n",
            "\n",
            "[['32415',\n",
            "  ['mike', 'reed'],\n",
            "  32,\n",
            "  ['electronics', 'sport', 'books'],\n",
            "  [894, 213, 173]],\n",
            " ['31980', ['kate', 'morgan'], 24, ['clothes', 'books'], [439, 390]],\n",
            " ['32156',\n",
            "  ['john', 'doe'],\n",
            "  37,\n",
            "  ['electronics', 'home', 'food'],\n",
            "  [459, 120, 99]],\n",
            " ['32761',\n",
            "  ['samantha', 'smith'],\n",
            "  29,\n",
            "  ['clothes', 'electronics', 'beauty'],\n",
            "  [299, 679, 85]],\n",
            " ['32984', ['david', 'white'], 41, ['books', 'home', 'sport'], [234, 329, 243]],\n",
            " ['33001', ['emily', 'brown'], 26, ['beauty', 'home', 'food'], [213, 659, 79]],\n",
            " ['33767',\n",
            "  ['maria', 'garcia'],\n",
            "  33,\n",
            "  ['clothes', 'food', 'beauty'],\n",
            "  [499, 189, 63]],\n",
            " ['33912',\n",
            "  ['jose', 'martinez'],\n",
            "  22,\n",
            "  ['sport', 'electronics', 'home'],\n",
            "  [259, 549, 109]],\n",
            " ['34009',\n",
            "  ['lisa', 'wilson'],\n",
            "  35,\n",
            "  ['home', 'books', 'clothes'],\n",
            "  [329, 189, 329]],\n",
            " ['34278',\n",
            "  ['james', 'lee'],\n",
            "  28,\n",
            "  ['beauty', 'clothes', 'electronics'],\n",
            "  [189, 299, 579]]]\n"
          ]
        }
      ]
    },
    {
      "cell_type": "markdown",
      "source": [
        "********Pista********\n",
        "\n",
        "Efectúa los siguientes pasos para implementar la función `clean_user`:\n",
        "\n",
        "1. **Copia y adapta:** copia el código de tu función anterior `clean_user`.\n",
        "\n",
        "2. **Pon el nombre en minúsculas:** antes de aplicar `split()` y `replace()`, aplica `lower()` al nombre del cliente.\n",
        "\n",
        "3. **Procesa las categorías:** agrega una sección nueva para gestionar las categorías. Pon cada categoría de la lista en minúsculas y almacénalas en una nueva lista.\n",
        "\n",
        "4. **Ejecuta tu código:** asegúrate de que la función `clean_user` actualice la lista `user_info` con el nombre, edad y categorías limpias. Haz un bucle en la lista `users` y llama a la función `clean_user`, pasando el usuario, `name_index`, `age_index` y `cat_index` para especificar los índices correctos para el nombre, la edad y las categorías, respectivamente.\n",
        "\n",
        "5. Guarda cada nuevo usuario limpio en la lista nueva `users_cleaned`.\n",
        "\n",
        "Muestra en pantalla la lista `users_cleaned` para asegurarte de que tu código realiza las respectivas transformaciones."
      ],
      "metadata": {
        "id": "Xh_3LfCt7A9U"
      }
    },
    {
      "cell_type": "code",
      "source": [
        "from pprint import pprint\n",
        "\n",
        "print(\"Caso 2: Más compacto usando función clean_user_2\")\n",
        "print()\n",
        "\n",
        "users = [\n",
        "    ['32415', ' mike_reed ', 32.0, ['ELECTRONICS', 'SPORT', 'BOOKS'], [894, 213, 173]],\n",
        "    ['31980', 'kate morgan', 24.0, ['CLOTHES', 'BOOKS'], [439, 390]],\n",
        "    ['32156', ' john doe ', 37.0, ['ELECTRONICS', 'HOME', 'FOOD'], [459, 120, 99]],\n",
        "    ['32761', 'SAMANTHA SMITH', 29.0, ['CLOTHES', 'ELECTRONICS', 'BEAUTY'], [299, 679, 85]],\n",
        "    ['32984', 'David White', 41.0, ['BOOKS', 'HOME', 'SPORT'], [234, 329, 243]],\n",
        "    ['33001', 'emily brown', 26.0, ['BEAUTY', 'HOME', 'FOOD'], [213, 659, 79]],\n",
        "    ['33767', ' Maria Garcia', 33.0, ['CLOTHES', 'FOOD', 'BEAUTY'], [499, 189, 63]],\n",
        "    ['33912', 'JOSE MARTINEZ', 22.0, ['SPORT', 'ELECTRONICS', 'HOME'], [259, 549, 109]],\n",
        "    ['34009', 'lisa wilson ', 35.0, ['HOME', 'BOOKS', 'CLOTHES'], [329, 189, 329]],\n",
        "    ['34278', 'James Lee', 28.0, ['BEAUTY', 'CLOTHES', 'ELECTRONICS'], [189, 299, 579]],\n",
        "]\n",
        "\n",
        "name_index = 1\n",
        "age_index = 2\n",
        "cat_index = 3\n",
        "\n",
        "def clean_user_2(user_info, name_index, age_index, cat_index):\n",
        "    users_cleaned = []\n",
        "    for user in user_info:\n",
        "        user_id = user[0]\n",
        "        user_name = user[name_index].lower().strip().replace(\"_\", \" \").split()\n",
        "        user_age = int(user[age_index])\n",
        "        categories = [category.lower() for category in user[cat_index]]\n",
        "        amounts = user[4]\n",
        "\n",
        "        users_cleaned.append([user_id, user_name, user_age, categories, amounts])\n",
        "    return users_cleaned\n",
        "\n",
        "users_cleaned_2 = clean_user_2(users, name_index, age_index, cat_index)\n",
        "pprint(users_cleaned_2)"
      ],
      "metadata": {
        "colab": {
          "base_uri": "https://localhost:8080/"
        },
        "id": "hgMoaPloHtri",
        "outputId": "8a9047d8-14cd-4f77-b0b7-a97251fbe884"
      },
      "execution_count": 15,
      "outputs": [
        {
          "output_type": "stream",
          "name": "stdout",
          "text": [
            "Caso 2: Más compacto usando función clean_user_2\n",
            "\n",
            "[['32415',\n",
            "  ['mike', 'reed'],\n",
            "  32,\n",
            "  ['electronics', 'sport', 'books'],\n",
            "  [894, 213, 173]],\n",
            " ['31980', ['kate', 'morgan'], 24, ['clothes', 'books'], [439, 390]],\n",
            " ['32156',\n",
            "  ['john', 'doe'],\n",
            "  37,\n",
            "  ['electronics', 'home', 'food'],\n",
            "  [459, 120, 99]],\n",
            " ['32761',\n",
            "  ['samantha', 'smith'],\n",
            "  29,\n",
            "  ['clothes', 'electronics', 'beauty'],\n",
            "  [299, 679, 85]],\n",
            " ['32984', ['david', 'white'], 41, ['books', 'home', 'sport'], [234, 329, 243]],\n",
            " ['33001', ['emily', 'brown'], 26, ['beauty', 'home', 'food'], [213, 659, 79]],\n",
            " ['33767',\n",
            "  ['maria', 'garcia'],\n",
            "  33,\n",
            "  ['clothes', 'food', 'beauty'],\n",
            "  [499, 189, 63]],\n",
            " ['33912',\n",
            "  ['jose', 'martinez'],\n",
            "  22,\n",
            "  ['sport', 'electronics', 'home'],\n",
            "  [259, 549, 109]],\n",
            " ['34009',\n",
            "  ['lisa', 'wilson'],\n",
            "  35,\n",
            "  ['home', 'books', 'clothes'],\n",
            "  [329, 189, 329]],\n",
            " ['34278',\n",
            "  ['james', 'lee'],\n",
            "  28,\n",
            "  ['beauty', 'clothes', 'electronics'],\n",
            "  [189, 299, 579]]]\n"
          ]
        }
      ]
    },
    {
      "cell_type": "markdown",
      "source": [
        "<div style=\"background-color:#e0f0ff; padding:10px; border-radius:8px;\">\n",
        "  Quise implementar dos funciones distintas para hacer la misma función, veo que la primera itera en cada lista de la lista principal y realiza el proceso con ayuda de un ciclo for, es decir, en vez de la función hacer que la variables (la lista de listas) itere dentro de la función, la función simplemnete actúa sobre cada sublista de manera iterada con ayuda de un ciclo for externo, sin embargo, quise implemntar una función que iterara la variable lista de listas completa.\n",
        "</div>"
      ],
      "metadata": {
        "id": "BgX8BZOq1LfB"
      }
    },
    {
      "cell_type": "code",
      "source": [],
      "metadata": {
        "id": "aY7m_9HR1MLY"
      },
      "execution_count": null,
      "outputs": []
    }
  ]
}