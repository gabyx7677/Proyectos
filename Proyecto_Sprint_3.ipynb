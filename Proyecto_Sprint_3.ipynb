{
  "cells": [
    {
      "cell_type": "markdown",
      "metadata": {
        "id": "view-in-github",
        "colab_type": "text"
      },
      "source": [
        "<a href=\"https://colab.research.google.com/github/gabyx7677/Proyectos/blob/Proyectos-Triple-Ten/Proyecto_Sprint_3.ipynb\" target=\"_parent\"><img src=\"https://colab.research.google.com/assets/colab-badge.svg\" alt=\"Open In Colab\"/></a>"
      ]
    },
    {
      "cell_type": "markdown",
      "metadata": {
        "id": "E0vqbgi9ay0H"
      },
      "source": [
        "# Déjame escuchar música"
      ]
    },
    {
      "cell_type": "markdown",
      "metadata": {
        "id": "fhq_eyov_Zcs"
      },
      "source": [
        "# Contenido <a id='back'></a>\n",
        "\n",
        "* [Introducción](#intro)\n",
        "* [Etapa 1. Descripción de los datos](#data_review)\n",
        "    * [Conclusiones](#data_review_conclusions)\n",
        "* [Etapa 2. Preprocesamiento de datos](#data_preprocessing)\n",
        "    * [2.1 Estilo del encabezado](#header_style)\n",
        "    * [2.2 Valores ausentes](#missing_values)\n",
        "    * [2.3 Duplicados](#duplicates)\n",
        "    * [2.4 Conclusiones](#data_preprocessing_conclusions)\n",
        "* [Etapa 3. Prueba de hipótesis](#hypothesis)\n",
        "    * [3.1 Hipótesis 1: actividad de los usuarios y las usuarias en las dos ciudades](#activity)\n",
        "* [Conclusiones](#end)"
      ]
    },
    {
      "cell_type": "markdown",
      "metadata": {
        "id": "VUC88oWjTJw2"
      },
      "source": [
        "## Introducción <a id='intro'></a>\n",
        "Como analista de datos, tu trabajo consiste en analizar datos para extraer información valiosa de ellos y tomar decisiones en consecuencia. Esto implica pasar por diferentes etapas, como la descripción general de los datos, el preprocesamiento y la prueba de hipótesis.\n",
        "\n",
        "Siempre que investiguemos, necesitamos formular hipótesis que después podamos probar. A veces, aceptaremos estas hipótesis; otras veces, las rechazaremos. Para tomar las decisiones adecuadas, una empresa debe ser capaz de entender si está haciendo las suposiciones correctas.\n",
        "\n",
        "En este proyecto, compararás las preferencias musicales de las ciudades de Springfield y Shelbyville. Estudiarás datos reales de música online para probar la hipótesis que planteamos a continuación y compararás el comportamiento de los usuarios de estas dos ciudades.\n",
        "\n",
        "### Objetivo:\n",
        "Probar la hipótesis:\n",
        "1. La actividad de los usuarios difiere según el día de la semana y dependiendo de la ciudad.\n",
        "\n",
        "\n",
        "### Etapas\n",
        "Los datos del comportamiento de los usuarios se almacenan en el archivo `/datasets/music_project_en.csv`. No hay información sobre la calidad de los datos, así que necesitarás examinarlos antes de probar la hipótesis.\n",
        "\n",
        "Primero, debes evaluar la calidad de los datos y ver si los problemas son significativos. Más tarde, durante el preprocesamiento de datos, deberás abordar los problemas más críticos.\n",
        "\n",
        "Tu proyecto contará con estas tres etapas:\n",
        " 1. Descripción de los datos.\n",
        " 2. Preprocesamiento de los datos.\n",
        " 3. Prueba de la hipótesis.\n",
        "\n",
        "\n",
        "\n",
        "\n",
        "\n",
        "\n"
      ]
    },
    {
      "cell_type": "markdown",
      "metadata": {
        "id": "hDt6pg-Rw-1U"
      },
      "source": [
        "[Volver a Contenidos](#back)"
      ]
    },
    {
      "cell_type": "markdown",
      "metadata": {
        "id": "Ml1hmfXC_Zcs"
      },
      "source": [
        "## Etapa 1. Descripción de los datos <a id='data_review'></a>\n",
        "\n",
        "Abre los datos y examínalos."
      ]
    },
    {
      "cell_type": "markdown",
      "metadata": {
        "id": "57eAOGIz_Zcs"
      },
      "source": [
        "Etapa 1.1. Necesitarás `pandas`, así que impórtalo."
      ]
    },
    {
      "cell_type": "code",
      "execution_count": 1,
      "metadata": {
        "id": "AXN7PHPN_Zcs"
      },
      "outputs": [],
      "source": [
        "# Importa pandas\n",
        "import pandas as pd"
      ]
    },
    {
      "cell_type": "markdown",
      "metadata": {
        "id": "SG23P8tt_Zcs"
      },
      "source": [
        "Etapa 1.2. Lee el archivo `music_project_en.csv` de la carpeta `/datasets/` y guárdalo en la variable `df`:"
      ]
    },
    {
      "cell_type": "code",
      "execution_count": 2,
      "metadata": {
        "id": "fFVu7vqh_Zct"
      },
      "outputs": [],
      "source": [
        "# Lee el archivo y almacénalo en df\n",
        "df = pd.read_csv(\"/content/music_project_en.csv\")"
      ]
    },
    {
      "cell_type": "markdown",
      "metadata": {
        "id": "rDoOMd3uTqnZ"
      },
      "source": [
        "Etapa 1.3. Muestra las 10 primeras filas de la tabla:"
      ]
    },
    {
      "cell_type": "code",
      "execution_count": 3,
      "metadata": {
        "id": "oWTVX3gW_Zct",
        "colab": {
          "base_uri": "https://localhost:8080/"
        },
        "outputId": "a3c0cf35-3e6b-4e72-cee3-f4c660c33955"
      },
      "outputs": [
        {
          "output_type": "stream",
          "name": "stdout",
          "text": [
            "     userID                        Track            artist   genre  \\\n",
            "0  FFB692EC            Kamigata To Boots  The Mass Missile    rock   \n",
            "1  55204538  Delayed Because of Accident  Andreas Rönnberg    rock   \n",
            "2    20EC38            Funiculì funiculà       Mario Lanza     pop   \n",
            "3  A3DD03C9        Dragons in the Sunset        Fire + Ice    folk   \n",
            "4  E2DC1FAE                  Soul People        Space Echo   dance   \n",
            "5  842029A1                       Chains          Obladaet  rusrap   \n",
            "6  4CB90AA5                         True      Roman Messer   dance   \n",
            "7  F03E1C1F             Feeling This Way   Polina Griffith   dance   \n",
            "8  8FA1D3BE                     L’estate       Julia Dalia  ruspop   \n",
            "9  E772D5C0                    Pessimist               NaN   dance   \n",
            "\n",
            "        City        time        Day  \n",
            "0  Shelbyville  20:28:33  Wednesday  \n",
            "1  Springfield  14:07:09     Friday  \n",
            "2  Shelbyville  20:58:07  Wednesday  \n",
            "3  Shelbyville  08:37:09     Monday  \n",
            "4  Springfield  08:34:34     Monday  \n",
            "5  Shelbyville  13:09:41     Friday  \n",
            "6  Springfield  13:00:07  Wednesday  \n",
            "7  Springfield  20:47:49  Wednesday  \n",
            "8  Springfield  09:17:40     Friday  \n",
            "9  Shelbyville  21:20:49  Wednesday  \n"
          ]
        }
      ],
      "source": [
        "# Obtén las 10 primeras filas de la tabla df\n",
        "print(df.head(10))"
      ]
    },
    {
      "cell_type": "markdown",
      "metadata": {
        "id": "EO73Kwic_Zct"
      },
      "source": [
        "Etapa 1.4. Obtén la información general sobre la tabla con el método info()."
      ]
    },
    {
      "cell_type": "code",
      "execution_count": 4,
      "metadata": {
        "id": "DSf2kIb-_Zct",
        "colab": {
          "base_uri": "https://localhost:8080/"
        },
        "outputId": "9f837a63-c27e-471e-f9d0-f789d8af58fb"
      },
      "outputs": [
        {
          "output_type": "stream",
          "name": "stdout",
          "text": [
            "<class 'pandas.core.frame.DataFrame'>\n",
            "RangeIndex: 65079 entries, 0 to 65078\n",
            "Data columns (total 7 columns):\n",
            " #   Column    Non-Null Count  Dtype \n",
            "---  ------    --------------  ----- \n",
            " 0     userID  65079 non-null  object\n",
            " 1   Track     63736 non-null  object\n",
            " 2   artist    57512 non-null  object\n",
            " 3   genre     63881 non-null  object\n",
            " 4     City    65079 non-null  object\n",
            " 5   time      65079 non-null  object\n",
            " 6   Day       65079 non-null  object\n",
            "dtypes: object(7)\n",
            "memory usage: 3.5+ MB\n",
            "None\n"
          ]
        }
      ],
      "source": [
        "# Obtén la información general sobre nuestros datos\n",
        "print(df.info())"
      ]
    },
    {
      "cell_type": "markdown",
      "metadata": {
        "id": "TaQ2Iwbr_Zct"
      },
      "source": [
        "Estas son nuestras observaciones sobre la tabla. Contiene siete columnas que almacenan los mismos tipos de datos: `object`.\n",
        "\n",
        "Según la documentación:\n",
        "- `' userID'`: identificador del usuario;\n",
        "- `'Track'`: título de la canción;\n",
        "- `'artist'`: nombre del artista;\n",
        "- `'genre'`: género de la canción;\n",
        "- `'City'`: ciudad del usuario;\n",
        "- `'time'`: la hora exacta en la que se reprodujo la canción;\n",
        "- `'Day'`: día de la semana.\n",
        "\n",
        "Podemos ver tres problemas con el estilo en los encabezados de la tabla:\n",
        "1. Algunos encabezados están en mayúsculas, otros en minúsculas.\n",
        "2. Hay espacios en algunos encabezados.\n",
        "3. `Detecta el tercer problema por tu cuenta y descríbelo aquí` (no uso de snake_case).\n",
        "\n",
        "\n"
      ]
    },
    {
      "cell_type": "markdown",
      "metadata": {
        "id": "MCB6-dXG_Zct"
      },
      "source": [
        "### Escribe algunas observaciones por tu parte. Contesta a las siguientes preguntas: <a id='data_review_conclusions'></a>\n",
        "\n",
        "`1.   ¿Qué tipo de datos hay en las filas? ¿Cómo podemos saber qué almacenan las columnas?`\n",
        "\n",
        "`2.   ¿Hay suficientes datos para proporcionar respuestas a nuestra hipótesis o necesitamos más información?`\n",
        "\n",
        "`3.   ¿Notaste algún problema en los datos, como valores ausentes, duplicados o tipos de datos incorrectos?`"
      ]
    },
    {
      "cell_type": "markdown",
      "metadata": {
        "id": "emewmQcy3m_F"
      },
      "source": [
        "Escribe aquí tus respuestas:\n",
        "\n",
        "1. Las filas representan reproducciones individuales de canciones. Cada columna almacena atributos específicos: por ejemplo, 'userID' identifica al usuario, 'Track' el título, 'time' la hora, etc. Podemos entender esto por los nombres de las columnas y su descripción. Además, inspeccionar con df.info() y df.head() ayuda a confirmar qué tipo de datos contiene cada una. Las series contienen datos categoricos que se pueden analizar de diferentes maneras.\n",
        "\n",
        "2. Depende de la hipótesis, pero en general, con 'userID', 'genre', 'time', 'Day' y 'City', hay suficiente información para analizar patrones de reproducción por usuario, género, hora y ubicación. Si la hipótesis fuera más compleja (como ingresos, edad o suscripción), sí faltarían datos.\n",
        "\n",
        "3. Valores ausentes en 'Track' o 'artits', lo cual puede distorsionar análisis, se repiten filas idénticas de reproducción Tipos incorrectos, como 'time' siendo texto en lugar de tipo datetime lo cual cierra la posibilidad a poder manipular ese dato en horas, minutos y segundos."
      ]
    },
    {
      "cell_type": "markdown",
      "metadata": {
        "id": "3eL__vcwViOi"
      },
      "source": [
        "[Volver a Contenidos](#back)"
      ]
    },
    {
      "cell_type": "markdown",
      "metadata": {
        "id": "SjYF6Ub9_Zct"
      },
      "source": [
        "## Etapa 2. Preprocesamiento de los datos <a id='data_preprocessing'></a>\n",
        "\n",
        "Tu objetivo aquí es preparar los datos para analizarlos.\n",
        "El primer paso es resolver los problemas con los encabezados. Después podemos avanzar a los valores ausentes y duplicados. ¡Empecemos!\n",
        "\n",
        "Vamos a corregir el formato en los encabezados de la tabla.\n"
      ]
    },
    {
      "cell_type": "markdown",
      "metadata": {
        "id": "dIaKXr29_Zct"
      },
      "source": [
        "### Estilo del encabezado <a id='header_style'></a>\n",
        "Etapa 2.1. Muestra los encabezados de la tabla (los nombres de las columnas):"
      ]
    },
    {
      "cell_type": "code",
      "execution_count": 5,
      "metadata": {
        "id": "oKOTdF_Q_Zct",
        "colab": {
          "base_uri": "https://localhost:8080/"
        },
        "outputId": "86be7a24-e1a5-4038-d3f2-169dac3ad5e6"
      },
      "outputs": [
        {
          "output_type": "execute_result",
          "data": {
            "text/plain": [
              "Index(['  userID', 'Track', 'artist', 'genre', '  City  ', 'time', 'Day'], dtype='object')"
            ]
          },
          "metadata": {},
          "execution_count": 5
        }
      ],
      "source": [
        "# Muestra los nombres de las columnas\n",
        "df.columns"
      ]
    },
    {
      "cell_type": "markdown",
      "metadata": {
        "id": "zj5534cv_Zct"
      },
      "source": [
        "Vamos cambiar los encabezados de la tabla siguiendo las reglas estilísticas convencionales:\n",
        "*   Todos los caracteres deben ser minúsculas.\n",
        "*   Elimina los espacios.\n",
        "*   Si el nombre tiene varias palabras, utiliza snake_case.\n"
      ]
    },
    {
      "cell_type": "markdown",
      "metadata": {
        "id": "Xu0zkfe5zNJe"
      },
      "source": [
        "Anteriormente, aprendiste una forma automática de cambiar el nombre de las columnas. Vamos a aplicarla ahora.\n",
        "\n",
        "Etapa 2.2. Utiliza el bucle for para iterar sobre los nombres de las columnas y poner todos los caracteres en minúsculas. Cuando hayas terminado, vuelve a mostrar los encabezados de la tabla:"
      ]
    },
    {
      "cell_type": "code",
      "execution_count": 6,
      "metadata": {
        "id": "6I_RwwMhzM4e",
        "colab": {
          "base_uri": "https://localhost:8080/"
        },
        "outputId": "4fd3e81b-30da-4309-e2b5-b7d1d539c651"
      },
      "outputs": [
        {
          "output_type": "execute_result",
          "data": {
            "text/plain": [
              "Index(['  userid', 'track', 'artist', 'genre', '  city  ', 'time', 'day'], dtype='object')"
            ]
          },
          "metadata": {},
          "execution_count": 6
        }
      ],
      "source": [
        "# Bucle en los encabezados que lo pone todo en minúsculas\n",
        "for col in df.columns:\n",
        "    df.columns = df.columns.str.lower()\n",
        "\n",
        "df.columns"
      ]
    },
    {
      "cell_type": "markdown",
      "metadata": {
        "id": "pweIRxjSzPYW"
      },
      "source": [
        "Etapa 2.3. Ahora, utilizando el mismo método, elimina los espacios al principio y al final de los nombres de las columnas y muestra los nombres de las columnas de nuevo:"
      ]
    },
    {
      "cell_type": "code",
      "execution_count": 7,
      "metadata": {
        "id": "vVQXbFyJzSYl",
        "colab": {
          "base_uri": "https://localhost:8080/"
        },
        "outputId": "486cb4c8-a606-42f7-d1bb-2551ab4a83ea"
      },
      "outputs": [
        {
          "output_type": "execute_result",
          "data": {
            "text/plain": [
              "Index(['userid', 'track', 'artist', 'genre', 'city', 'time', 'day'], dtype='object')"
            ]
          },
          "metadata": {},
          "execution_count": 7
        }
      ],
      "source": [
        "# Bucle en los encabezados que elimina los espacios\n",
        "for col in df.columns:\n",
        "    df.columns = df.columns.str.strip()\n",
        "\n",
        "df.columns"
      ]
    },
    {
      "cell_type": "markdown",
      "metadata": {
        "id": "yCb8MW1JzURd"
      },
      "source": [
        "Etapa 2.4. Necesitamos aplicar la regla de snake_case en la columna `userid`. Debe ser `user_id`. Cambia el nombre de esta columna y muestra los nombres de todas las columnas cuando hayas terminado."
      ]
    },
    {
      "cell_type": "code",
      "execution_count": 8,
      "metadata": {
        "id": "ISlFqs5y_Zct",
        "colab": {
          "base_uri": "https://localhost:8080/"
        },
        "outputId": "4f2ba368-6cb1-49c2-d4c9-6ea184423ae2"
      },
      "outputs": [
        {
          "output_type": "execute_result",
          "data": {
            "text/plain": [
              "Index(['user_id', 'track', 'artist', 'genre', 'city', 'time', 'day'], dtype='object')"
            ]
          },
          "metadata": {},
          "execution_count": 8
        }
      ],
      "source": [
        "# Cambia el nombre de la columna \"userid\"\n",
        "df.rename(columns={\"userid\" : \"user_id\"}, inplace=True)\n",
        "df.columns"
      ]
    },
    {
      "cell_type": "markdown",
      "metadata": {
        "id": "1dqbh00J_Zct"
      },
      "source": [
        "Etapa 2.5. Comprueba el resultado. Muestra los encabezados una vez más:"
      ]
    },
    {
      "cell_type": "code",
      "execution_count": 9,
      "metadata": {
        "id": "d4NOAmTW_Zct",
        "colab": {
          "base_uri": "https://localhost:8080/"
        },
        "outputId": "fbf6d07c-e2d4-47da-a9e5-af749a2755f9"
      },
      "outputs": [
        {
          "output_type": "execute_result",
          "data": {
            "text/plain": [
              "Index(['user_id', 'track', 'artist', 'genre', 'city', 'time', 'day'], dtype='object')"
            ]
          },
          "metadata": {},
          "execution_count": 9
        }
      ],
      "source": [
        "# Comprueba el resultado: lista de encabezados\n",
        "\n",
        "df.columns"
      ]
    },
    {
      "cell_type": "markdown",
      "metadata": {
        "id": "xYJk6ksJVpOl"
      },
      "source": [
        "[Volver a Contenidos](#back)"
      ]
    },
    {
      "cell_type": "markdown",
      "metadata": {
        "id": "5ISfbcfY_Zct"
      },
      "source": [
        "### Valores ausentes <a id='missing_values'></a>\n",
        " Etapa 2.5. Primero, encuentra el número de valores ausentes en la tabla. Debes utilizar dos métodos para obtener el número de valores ausentes."
      ]
    },
    {
      "cell_type": "code",
      "execution_count": 10,
      "metadata": {
        "id": "RskX29qr_Zct",
        "colab": {
          "base_uri": "https://localhost:8080/"
        },
        "outputId": "90d666cf-b03a-407e-bd68-33bb1f321deb"
      },
      "outputs": [
        {
          "output_type": "stream",
          "name": "stdout",
          "text": [
            "user_id       0\n",
            "track      1343\n",
            "artist     7567\n",
            "genre      1198\n",
            "city          0\n",
            "time          0\n",
            "day           0\n",
            "dtype: int64\n",
            "\n",
            "user_id       0\n",
            "track      1343\n",
            "artist     7567\n",
            "genre      1198\n",
            "city          0\n",
            "time          0\n",
            "day           0\n",
            "dtype: int64\n"
          ]
        }
      ],
      "source": [
        "# Calcula el número de valores ausentes\n",
        "\n",
        "df_ausentes1 = df.isnull().sum()\n",
        "df_ausentes2 = df.isna().sum()\n",
        "print(df_ausentes1)\n",
        "print()\n",
        "print(df_ausentes2)"
      ]
    },
    {
      "cell_type": "markdown",
      "metadata": {
        "id": "qubhgnlO_Zct"
      },
      "source": [
        "No todos los valores ausentes afectan de la misma forma a la investigación. Por ejemplo, los valores ausentes en 'track' y 'artist' no son cruciales para el análisis, ya que estos datos son más descriptivos que analíticos. Por eso, puedes reemplazarlos directamente con un valor predeterminado como el string 'unknown' (desconocido)."
      ]
    },
    {
      "cell_type": "markdown",
      "metadata": {
        "id": "gzJd_997466T"
      },
      "source": [
        "En cambio, los valores ausentes en 'genre' sí pueden influir en la comparación entre las preferencias musicales de Springfield y Shelbyville. En un escenario real, lo ideal sería investigar por qué faltan estos datos e intentar recuperarlos. Pero en este proyecto no tenemos esa posibilidad, así que deberás rellenar esos valores con un valor predeterminado.\n"
      ]
    },
    {
      "cell_type": "markdown",
      "metadata": {
        "id": "5IzUHGWE5Els"
      },
      "source": [
        "Como vimos anteriormente en las lecciones, la mejor manera de hacerlo es crear una lista con los nombres de las columnas que necesitan reemplazarse.  Luego, utilizar esta lista para iterar sobre cada columna y realizar el reemplazo correspondiente."
      ]
    },
    {
      "cell_type": "markdown",
      "metadata": {
        "id": "fSv2laPA_Zct"
      },
      "source": [
        "Etapa 2.6. Sustituye los valores ausentes en las columnas `'track'`, `'artist'` y `'genre'` con el string `'unknown'`.\n",
        "\n",
        "1. Crea una lista llamada columns_to_replace que contenga los nombres de las columnas 'track', 'artist' y 'genre'.\n",
        "\n",
        "2. Usa un bucle for para iterar sobre cada columna en columns_to_replace.\n",
        "\n",
        "3. Dentro del bucle, sustituye los valores ausentes en cada columna con el string `'unknown'`."
      ]
    },
    {
      "cell_type": "code",
      "execution_count": 11,
      "metadata": {
        "id": "KplB5qWs_Zct",
        "colab": {
          "base_uri": "https://localhost:8080/"
        },
        "outputId": "e0dc0080-aa71-48ca-dbf9-92ceff4ef0df"
      },
      "outputs": [
        {
          "output_type": "stream",
          "name": "stdout",
          "text": [
            "        user_id                                              track  \\\n",
            "511    C8AF03B0                                                Hey   \n",
            "46518  EA721BBE                                             Refuge   \n",
            "10793  932B0FBE  Still Have a Dream (Official Street Parade 200...   \n",
            "4585   38303C5B                                      Magical Night   \n",
            "22599  7E39A5DF                     Can't We Talk Over? (02- ?-40)   \n",
            "34615  E4043051                                      Favorite Song   \n",
            "52977  A123316B                                     Smoke / Dreams   \n",
            "4563   E951E691                                      Última Jugada   \n",
            "62113  68AF20CA                                   Secret Agent Man   \n",
            "50796  8B9199FE                                       Ghostbusters   \n",
            "\n",
            "                                 artist       genre         city      time  \\\n",
            "511                                 Kel      ruspop  Shelbyville  20:27:28   \n",
            "46518           While the Heart Becomes       metal  Springfield  21:15:24   \n",
            "10793                            Imhoof       house  Springfield  09:00:39   \n",
            "4585                            unknown      ruspop  Springfield  20:30:04   \n",
            "22599                    Jack Teagarden        jazz  Shelbyville  13:39:16   \n",
            "34615                      Maya Azucena         pop  Springfield  21:54:09   \n",
            "52977                           Mamanet  electronic  Shelbyville  14:58:00   \n",
            "4563                             Arkano         hip  Springfield  08:47:58   \n",
            "62113  The Royal Instrumental Orchestra        film  Springfield  08:53:19   \n",
            "50796                            Melo-M        rock  Shelbyville  21:22:19   \n",
            "\n",
            "             day  \n",
            "511       Friday  \n",
            "46518     Monday  \n",
            "10793     Friday  \n",
            "4585      Monday  \n",
            "22599  Wednesday  \n",
            "34615     Friday  \n",
            "52977     Monday  \n",
            "4563   Wednesday  \n",
            "62113     Monday  \n",
            "50796     Monday  \n"
          ]
        },
        {
          "output_type": "stream",
          "name": "stderr",
          "text": [
            "<ipython-input-11-596ad95ef0d0>:4: FutureWarning: A value is trying to be set on a copy of a DataFrame or Series through chained assignment using an inplace method.\n",
            "The behavior will change in pandas 3.0. This inplace method will never work because the intermediate object on which we are setting values always behaves as a copy.\n",
            "\n",
            "For example, when doing 'df[col].method(value, inplace=True)', try using 'df.method({col: value}, inplace=True)' or df[col] = df[col].method(value) instead, to perform the operation inplace on the original object.\n",
            "\n",
            "\n",
            "  df[col].fillna('unknown', inplace=True)\n"
          ]
        }
      ],
      "source": [
        "# Bucle en los encabezados reemplazando los valores ausentes con 'unknown'\n",
        "\n",
        "for col in ['track', 'artist', 'genre']:\n",
        "    df[col].fillna('unknown', inplace=True)\n",
        "\n",
        "print(df.sample(10))"
      ]
    },
    {
      "cell_type": "markdown",
      "metadata": {
        "id": "Ilsm-MZo_Zct"
      },
      "source": [
        "Etapa 2.7. Ahora comprueba el resultado para asegurarte de que no falten valores ausentes por reemplazar en el conjunto de datos. Para ello, cuenta los valores ausentes una vez más."
      ]
    },
    {
      "cell_type": "code",
      "execution_count": 12,
      "metadata": {
        "id": "Tq4nYRX4_Zct",
        "colab": {
          "base_uri": "https://localhost:8080/"
        },
        "outputId": "fb095fa9-777e-4ef1-ed55-73454c380ef8"
      },
      "outputs": [
        {
          "output_type": "stream",
          "name": "stdout",
          "text": [
            "user_id    0\n",
            "track      0\n",
            "artist     0\n",
            "genre      0\n",
            "city       0\n",
            "time       0\n",
            "day        0\n",
            "dtype: int64\n",
            "\n",
            "user_id    0\n",
            "track      0\n",
            "artist     0\n",
            "genre      0\n",
            "city       0\n",
            "time       0\n",
            "day        0\n",
            "dtype: int64\n"
          ]
        }
      ],
      "source": [
        "# Cuenta los valores ausentes\n",
        "\n",
        "df_ausentes1 = df.isnull().sum()\n",
        "df_ausentes2 = df.isna().sum()\n",
        "print(df_ausentes1)\n",
        "print()\n",
        "print(df_ausentes2)"
      ]
    },
    {
      "cell_type": "markdown",
      "metadata": {
        "id": "74ZIBmq9VrsK"
      },
      "source": [
        "[Volver a Contenidos](#back)"
      ]
    },
    {
      "cell_type": "markdown",
      "metadata": {
        "id": "BWKRtBJ3_Zct"
      },
      "source": [
        "### Duplicados <a id='duplicates'></a>\n",
        "Etapa 2.8. Encuentra el número de duplicados explícitos en la tabla. Una vez más, debes aplicar dos métodos para obtener la cantidad de duplicados explícitos."
      ]
    },
    {
      "cell_type": "code",
      "execution_count": 13,
      "metadata": {
        "id": "36eES_S0_Zct",
        "colab": {
          "base_uri": "https://localhost:8080/"
        },
        "outputId": "f2cbb93a-84e8-4424-a3ce-881ac2103595"
      },
      "outputs": [
        {
          "output_type": "stream",
          "name": "stdout",
          "text": [
            "3826\n"
          ]
        }
      ],
      "source": [
        "# Cuenta los duplicados explícitos\n",
        "\n",
        "print(df.duplicated().sum())"
      ]
    },
    {
      "cell_type": "markdown",
      "metadata": {
        "id": "Ot25h6XR_Zct"
      },
      "source": [
        "Etapa 2.9. Ahora, elimina todos los duplicados. Para ello, llama al método que hace exactamente esto."
      ]
    },
    {
      "cell_type": "code",
      "execution_count": 14,
      "metadata": {
        "id": "exFHq6tt_Zct"
      },
      "outputs": [],
      "source": [
        "# Elimina los duplicados explícitos\n",
        "df.drop_duplicates(inplace=True)"
      ]
    },
    {
      "cell_type": "markdown",
      "metadata": {
        "id": "Im2YwBEG_Zct"
      },
      "source": [
        "Etapa 2.10. Comprobemos ahora si conseguimos eliminar todos los duplicados. Cuenta los duplicados explícitos una vez más para asegurarte de haberlos eliminado todos:"
      ]
    },
    {
      "cell_type": "code",
      "execution_count": 15,
      "metadata": {
        "id": "-8PuNWQ0_Zct",
        "colab": {
          "base_uri": "https://localhost:8080/"
        },
        "outputId": "f0668580-c368-4421-b2de-7573caeca8c8"
      },
      "outputs": [
        {
          "output_type": "stream",
          "name": "stdout",
          "text": [
            "0\n"
          ]
        }
      ],
      "source": [
        "# Comprueba de nuevo si hay duplicados\n",
        "\n",
        "print(df.duplicated().sum())"
      ]
    },
    {
      "cell_type": "markdown",
      "metadata": {
        "id": "QlFBsxAr_Zct"
      },
      "source": [
        "Ahora queremos deshacernos de los duplicados implícitos en la columna `genre`. Por ejemplo, el nombre de un género se puede escribir de varias formas. Dichos errores también pueden afectar al resultado."
      ]
    },
    {
      "cell_type": "markdown",
      "metadata": {
        "id": "eSjWwsOh_Zct"
      },
      "source": [
        "Etapa 2.11. Primero debemos mostrar una lista de nombres de géneros únicos, por orden alfabético. Para ello:\n",
        "1. Extrae la columna `genre` del DataFrame.\n",
        "2. Llama al método que devolverá todos los valores únicos en la columna extraída.\n"
      ]
    },
    {
      "cell_type": "code",
      "execution_count": 16,
      "metadata": {
        "id": "JIUcqzZN_Zct",
        "colab": {
          "base_uri": "https://localhost:8080/"
        },
        "outputId": "b758ec75-f13f-4691-917b-a2cd68e419ae"
      },
      "outputs": [
        {
          "output_type": "execute_result",
          "data": {
            "text/plain": [
              "['acid',\n",
              " 'acoustic',\n",
              " 'action',\n",
              " 'adult',\n",
              " 'africa',\n",
              " 'afrikaans',\n",
              " 'alternative',\n",
              " 'ambient',\n",
              " 'americana',\n",
              " 'animated',\n",
              " 'anime',\n",
              " 'arabesk',\n",
              " 'arabic',\n",
              " 'arena',\n",
              " 'argentinetango',\n",
              " 'art',\n",
              " 'audiobook',\n",
              " 'avantgarde',\n",
              " 'axé',\n",
              " 'baile',\n",
              " 'balkan',\n",
              " 'beats',\n",
              " 'bigroom',\n",
              " 'black',\n",
              " 'bluegrass',\n",
              " 'blues',\n",
              " 'bollywood',\n",
              " 'bossa',\n",
              " 'brazilian',\n",
              " 'breakbeat',\n",
              " 'breaks',\n",
              " 'broadway',\n",
              " 'cantautori',\n",
              " 'cantopop',\n",
              " 'canzone',\n",
              " 'caribbean',\n",
              " 'caucasian',\n",
              " 'celtic',\n",
              " 'chamber',\n",
              " 'children',\n",
              " 'chill',\n",
              " 'chinese',\n",
              " 'choral',\n",
              " 'christian',\n",
              " 'christmas',\n",
              " 'classical',\n",
              " 'classicmetal',\n",
              " 'club',\n",
              " 'colombian',\n",
              " 'comedy',\n",
              " 'conjazz',\n",
              " 'contemporary',\n",
              " 'country',\n",
              " 'cuban',\n",
              " 'dance',\n",
              " 'dancehall',\n",
              " 'dancepop',\n",
              " 'dark',\n",
              " 'death',\n",
              " 'deep',\n",
              " 'deutschrock',\n",
              " 'deutschspr',\n",
              " 'dirty',\n",
              " 'disco',\n",
              " 'dnb',\n",
              " 'documentary',\n",
              " 'downbeat',\n",
              " 'downtempo',\n",
              " 'drum',\n",
              " 'dub',\n",
              " 'dubstep',\n",
              " 'eastern',\n",
              " 'easy',\n",
              " 'electronic',\n",
              " 'electropop',\n",
              " 'emo',\n",
              " 'entehno',\n",
              " 'epicmetal',\n",
              " 'estrada',\n",
              " 'ethnic',\n",
              " 'eurofolk',\n",
              " 'european',\n",
              " 'experimental',\n",
              " 'extrememetal',\n",
              " 'fado',\n",
              " 'film',\n",
              " 'fitness',\n",
              " 'flamenco',\n",
              " 'folk',\n",
              " 'folklore',\n",
              " 'folkmetal',\n",
              " 'folkrock',\n",
              " 'folktronica',\n",
              " 'forró',\n",
              " 'frankreich',\n",
              " 'französisch',\n",
              " 'french',\n",
              " 'funk',\n",
              " 'future',\n",
              " 'gangsta',\n",
              " 'garage',\n",
              " 'german',\n",
              " 'ghazal',\n",
              " 'gitarre',\n",
              " 'glitch',\n",
              " 'gospel',\n",
              " 'gothic',\n",
              " 'grime',\n",
              " 'grunge',\n",
              " 'gypsy',\n",
              " 'handsup',\n",
              " \"hard'n'heavy\",\n",
              " 'hardcore',\n",
              " 'hardstyle',\n",
              " 'hardtechno',\n",
              " 'hip',\n",
              " 'hip-hop',\n",
              " 'hiphop',\n",
              " 'historisch',\n",
              " 'holiday',\n",
              " 'hop',\n",
              " 'horror',\n",
              " 'house',\n",
              " 'idm',\n",
              " 'independent',\n",
              " 'indian',\n",
              " 'indie',\n",
              " 'indipop',\n",
              " 'industrial',\n",
              " 'inspirational',\n",
              " 'instrumental',\n",
              " 'international',\n",
              " 'irish',\n",
              " 'jam',\n",
              " 'japanese',\n",
              " 'jazz',\n",
              " 'jewish',\n",
              " 'jpop',\n",
              " 'jungle',\n",
              " 'k-pop',\n",
              " 'karadeniz',\n",
              " 'karaoke',\n",
              " 'kayokyoku',\n",
              " 'korean',\n",
              " 'laiko',\n",
              " 'latin',\n",
              " 'latino',\n",
              " 'leftfield',\n",
              " 'local',\n",
              " 'lounge',\n",
              " 'loungeelectronic',\n",
              " 'lovers',\n",
              " 'malaysian',\n",
              " 'mandopop',\n",
              " 'marschmusik',\n",
              " 'meditative',\n",
              " 'mediterranean',\n",
              " 'melodic',\n",
              " 'metal',\n",
              " 'metalcore',\n",
              " 'mexican',\n",
              " 'middle',\n",
              " 'minimal',\n",
              " 'miscellaneous',\n",
              " 'modern',\n",
              " 'mood',\n",
              " 'mpb',\n",
              " 'muslim',\n",
              " 'native',\n",
              " 'neoklassik',\n",
              " 'neue',\n",
              " 'new',\n",
              " 'newage',\n",
              " 'newwave',\n",
              " 'nu',\n",
              " 'nujazz',\n",
              " 'numetal',\n",
              " 'oceania',\n",
              " 'old',\n",
              " 'opera',\n",
              " 'orchestral',\n",
              " 'other',\n",
              " 'piano',\n",
              " 'pop',\n",
              " 'popelectronic',\n",
              " 'popeurodance',\n",
              " 'post',\n",
              " 'posthardcore',\n",
              " 'postrock',\n",
              " 'power',\n",
              " 'progmetal',\n",
              " 'progressive',\n",
              " 'psychedelic',\n",
              " 'punjabi',\n",
              " 'punk',\n",
              " 'quebecois',\n",
              " 'ragga',\n",
              " 'ram',\n",
              " 'rancheras',\n",
              " 'rap',\n",
              " 'rave',\n",
              " 'reggae',\n",
              " 'reggaeton',\n",
              " 'regional',\n",
              " 'relax',\n",
              " 'religious',\n",
              " 'retro',\n",
              " 'rhythm',\n",
              " 'rnb',\n",
              " 'rnr',\n",
              " 'rock',\n",
              " 'rockabilly',\n",
              " 'romance',\n",
              " 'roots',\n",
              " 'ruspop',\n",
              " 'rusrap',\n",
              " 'rusrock',\n",
              " 'salsa',\n",
              " 'samba',\n",
              " 'schlager',\n",
              " 'self',\n",
              " 'sertanejo',\n",
              " 'shoegazing',\n",
              " 'showtunes',\n",
              " 'singer',\n",
              " 'ska',\n",
              " 'slow',\n",
              " 'smooth',\n",
              " 'soul',\n",
              " 'soulful',\n",
              " 'sound',\n",
              " 'soundtrack',\n",
              " 'southern',\n",
              " 'specialty',\n",
              " 'speech',\n",
              " 'spiritual',\n",
              " 'sport',\n",
              " 'stonerrock',\n",
              " 'surf',\n",
              " 'swing',\n",
              " 'synthpop',\n",
              " 'sängerportrait',\n",
              " 'tango',\n",
              " 'tanzorchester',\n",
              " 'taraftar',\n",
              " 'tech',\n",
              " 'techno',\n",
              " 'thrash',\n",
              " 'top',\n",
              " 'traditional',\n",
              " 'tradjazz',\n",
              " 'trance',\n",
              " 'tribal',\n",
              " 'trip',\n",
              " 'triphop',\n",
              " 'tropical',\n",
              " 'türk',\n",
              " 'türkçe',\n",
              " 'unknown',\n",
              " 'urban',\n",
              " 'uzbek',\n",
              " 'variété',\n",
              " 'vi',\n",
              " 'videogame',\n",
              " 'vocal',\n",
              " 'western',\n",
              " 'world',\n",
              " 'worldbeat',\n",
              " 'ïîï']"
            ]
          },
          "metadata": {},
          "execution_count": 16
        }
      ],
      "source": [
        "# Inspecciona los nombres de géneros únicos\n",
        "sorted(df[\"genre\"].unique())\n"
      ]
    },
    {
      "cell_type": "markdown",
      "metadata": {
        "id": "qej-Qmuo_Zct"
      },
      "source": [
        "Vamos a examinar la lista para identificar **duplicados implícitos** del género `hiphop`, es decir, nombres mal escritos o variantes que hacen referencia al mismo género musical.\n",
        "\n",
        "Algunos de los duplicados que encontrarás son:\n",
        "\n",
        "* `hip`  \n",
        "* `hop`  \n",
        "* `hip-hop`  \n",
        "\n",
        "Para solucionarlo, vamos a crear una función llamada `replace_wrong_genres()` que tendrá dos parámetros:\n",
        "\n",
        "* `wrong_genres`: una lista con todos los valores que deben ser reemplazados.  \n",
        "* `correct_genre`: un string que se utilizará como valor de reemplazo.\n",
        "\n",
        "El objetivo de esta función es **corregir los valores en la columna `'genre'` del DataFrame `df`**, reemplazando cada valor de la lista `wrong_genres` por `correct_genre`."
      ]
    },
    {
      "cell_type": "markdown",
      "metadata": {
        "id": "7kmujhjP_bIl"
      },
      "source": [
        "Etapa 2.12.\n",
        "1. Define una función llamada `replace_wrong_genres()` que reciba dos parámetros: `wrong_genres` y `correct_genre`.\n",
        "\n",
        "2. Dentro de la función, utiliza un bucle `for` para iterar sobre cada valor en la lista `wrong_genres`.\n",
        "\n",
        "3. En cada iteración, accede a la columna `'genre'` del DataFrame `df` y utiliza el método `.replace()` para sustituir el valor incorrecto por `correct_genre`.\n",
        "\n",
        "4. Llama a la función y pasa como argumentos:\n",
        "   - Una lista con los duplicados implícitos: `['hip', 'hop', 'hip-hop']`\n",
        "   - El string de reemplazo: `'hiphop'`"
      ]
    },
    {
      "cell_type": "code",
      "execution_count": 17,
      "metadata": {
        "id": "ErNDkmns_Zct"
      },
      "outputs": [],
      "source": [
        "from os import replace\n",
        "# Función para reemplazar los duplicados implícitos\n",
        "def replace_wrong_genres(wrong_genres, correct_genre):\n",
        "    for wrong_genre in wrong_genres:\n",
        "        df['genre'] = df['genre'].replace(wrong_genre, correct_genre)"
      ]
    },
    {
      "cell_type": "markdown",
      "metadata": {
        "id": "aDoBJxbA_Zct"
      },
      "source": [
        "Etapa 2.13. Ahora, llama a `replace_wrong_genres()` y pásale estos argumentos para que retire los duplicados implícitos (`hip`, `hop` y `hip-hop`) y los sustituya por `hiphop`:"
      ]
    },
    {
      "cell_type": "code",
      "execution_count": 18,
      "metadata": {
        "id": "YN5i2hpmSo09"
      },
      "outputs": [],
      "source": [
        "# Elimina los duplicados implícitos\n",
        "replace_wrong_genres(['hip', 'hop', 'hip-hop'], 'hiphop')"
      ]
    },
    {
      "cell_type": "markdown",
      "metadata": {
        "id": "zQKF16_RG15m"
      },
      "source": [
        "Etapa 2.14. Asegúrate de que los nombres duplicados se hayan eliminado. Muestra la lista de valores únicos de la columna `'genre'` una vez más:"
      ]
    },
    {
      "cell_type": "code",
      "execution_count": 19,
      "metadata": {
        "id": "wvixALnFG15m",
        "colab": {
          "base_uri": "https://localhost:8080/"
        },
        "outputId": "53082ed1-c594-4187-a59a-f31185f75432"
      },
      "outputs": [
        {
          "output_type": "execute_result",
          "data": {
            "text/plain": [
              "['acid',\n",
              " 'acoustic',\n",
              " 'action',\n",
              " 'adult',\n",
              " 'africa',\n",
              " 'afrikaans',\n",
              " 'alternative',\n",
              " 'ambient',\n",
              " 'americana',\n",
              " 'animated',\n",
              " 'anime',\n",
              " 'arabesk',\n",
              " 'arabic',\n",
              " 'arena',\n",
              " 'argentinetango',\n",
              " 'art',\n",
              " 'audiobook',\n",
              " 'avantgarde',\n",
              " 'axé',\n",
              " 'baile',\n",
              " 'balkan',\n",
              " 'beats',\n",
              " 'bigroom',\n",
              " 'black',\n",
              " 'bluegrass',\n",
              " 'blues',\n",
              " 'bollywood',\n",
              " 'bossa',\n",
              " 'brazilian',\n",
              " 'breakbeat',\n",
              " 'breaks',\n",
              " 'broadway',\n",
              " 'cantautori',\n",
              " 'cantopop',\n",
              " 'canzone',\n",
              " 'caribbean',\n",
              " 'caucasian',\n",
              " 'celtic',\n",
              " 'chamber',\n",
              " 'children',\n",
              " 'chill',\n",
              " 'chinese',\n",
              " 'choral',\n",
              " 'christian',\n",
              " 'christmas',\n",
              " 'classical',\n",
              " 'classicmetal',\n",
              " 'club',\n",
              " 'colombian',\n",
              " 'comedy',\n",
              " 'conjazz',\n",
              " 'contemporary',\n",
              " 'country',\n",
              " 'cuban',\n",
              " 'dance',\n",
              " 'dancehall',\n",
              " 'dancepop',\n",
              " 'dark',\n",
              " 'death',\n",
              " 'deep',\n",
              " 'deutschrock',\n",
              " 'deutschspr',\n",
              " 'dirty',\n",
              " 'disco',\n",
              " 'dnb',\n",
              " 'documentary',\n",
              " 'downbeat',\n",
              " 'downtempo',\n",
              " 'drum',\n",
              " 'dub',\n",
              " 'dubstep',\n",
              " 'eastern',\n",
              " 'easy',\n",
              " 'electronic',\n",
              " 'electropop',\n",
              " 'emo',\n",
              " 'entehno',\n",
              " 'epicmetal',\n",
              " 'estrada',\n",
              " 'ethnic',\n",
              " 'eurofolk',\n",
              " 'european',\n",
              " 'experimental',\n",
              " 'extrememetal',\n",
              " 'fado',\n",
              " 'film',\n",
              " 'fitness',\n",
              " 'flamenco',\n",
              " 'folk',\n",
              " 'folklore',\n",
              " 'folkmetal',\n",
              " 'folkrock',\n",
              " 'folktronica',\n",
              " 'forró',\n",
              " 'frankreich',\n",
              " 'französisch',\n",
              " 'french',\n",
              " 'funk',\n",
              " 'future',\n",
              " 'gangsta',\n",
              " 'garage',\n",
              " 'german',\n",
              " 'ghazal',\n",
              " 'gitarre',\n",
              " 'glitch',\n",
              " 'gospel',\n",
              " 'gothic',\n",
              " 'grime',\n",
              " 'grunge',\n",
              " 'gypsy',\n",
              " 'handsup',\n",
              " \"hard'n'heavy\",\n",
              " 'hardcore',\n",
              " 'hardstyle',\n",
              " 'hardtechno',\n",
              " 'hiphop',\n",
              " 'historisch',\n",
              " 'holiday',\n",
              " 'horror',\n",
              " 'house',\n",
              " 'idm',\n",
              " 'independent',\n",
              " 'indian',\n",
              " 'indie',\n",
              " 'indipop',\n",
              " 'industrial',\n",
              " 'inspirational',\n",
              " 'instrumental',\n",
              " 'international',\n",
              " 'irish',\n",
              " 'jam',\n",
              " 'japanese',\n",
              " 'jazz',\n",
              " 'jewish',\n",
              " 'jpop',\n",
              " 'jungle',\n",
              " 'k-pop',\n",
              " 'karadeniz',\n",
              " 'karaoke',\n",
              " 'kayokyoku',\n",
              " 'korean',\n",
              " 'laiko',\n",
              " 'latin',\n",
              " 'latino',\n",
              " 'leftfield',\n",
              " 'local',\n",
              " 'lounge',\n",
              " 'loungeelectronic',\n",
              " 'lovers',\n",
              " 'malaysian',\n",
              " 'mandopop',\n",
              " 'marschmusik',\n",
              " 'meditative',\n",
              " 'mediterranean',\n",
              " 'melodic',\n",
              " 'metal',\n",
              " 'metalcore',\n",
              " 'mexican',\n",
              " 'middle',\n",
              " 'minimal',\n",
              " 'miscellaneous',\n",
              " 'modern',\n",
              " 'mood',\n",
              " 'mpb',\n",
              " 'muslim',\n",
              " 'native',\n",
              " 'neoklassik',\n",
              " 'neue',\n",
              " 'new',\n",
              " 'newage',\n",
              " 'newwave',\n",
              " 'nu',\n",
              " 'nujazz',\n",
              " 'numetal',\n",
              " 'oceania',\n",
              " 'old',\n",
              " 'opera',\n",
              " 'orchestral',\n",
              " 'other',\n",
              " 'piano',\n",
              " 'pop',\n",
              " 'popelectronic',\n",
              " 'popeurodance',\n",
              " 'post',\n",
              " 'posthardcore',\n",
              " 'postrock',\n",
              " 'power',\n",
              " 'progmetal',\n",
              " 'progressive',\n",
              " 'psychedelic',\n",
              " 'punjabi',\n",
              " 'punk',\n",
              " 'quebecois',\n",
              " 'ragga',\n",
              " 'ram',\n",
              " 'rancheras',\n",
              " 'rap',\n",
              " 'rave',\n",
              " 'reggae',\n",
              " 'reggaeton',\n",
              " 'regional',\n",
              " 'relax',\n",
              " 'religious',\n",
              " 'retro',\n",
              " 'rhythm',\n",
              " 'rnb',\n",
              " 'rnr',\n",
              " 'rock',\n",
              " 'rockabilly',\n",
              " 'romance',\n",
              " 'roots',\n",
              " 'ruspop',\n",
              " 'rusrap',\n",
              " 'rusrock',\n",
              " 'salsa',\n",
              " 'samba',\n",
              " 'schlager',\n",
              " 'self',\n",
              " 'sertanejo',\n",
              " 'shoegazing',\n",
              " 'showtunes',\n",
              " 'singer',\n",
              " 'ska',\n",
              " 'slow',\n",
              " 'smooth',\n",
              " 'soul',\n",
              " 'soulful',\n",
              " 'sound',\n",
              " 'soundtrack',\n",
              " 'southern',\n",
              " 'specialty',\n",
              " 'speech',\n",
              " 'spiritual',\n",
              " 'sport',\n",
              " 'stonerrock',\n",
              " 'surf',\n",
              " 'swing',\n",
              " 'synthpop',\n",
              " 'sängerportrait',\n",
              " 'tango',\n",
              " 'tanzorchester',\n",
              " 'taraftar',\n",
              " 'tech',\n",
              " 'techno',\n",
              " 'thrash',\n",
              " 'top',\n",
              " 'traditional',\n",
              " 'tradjazz',\n",
              " 'trance',\n",
              " 'tribal',\n",
              " 'trip',\n",
              " 'triphop',\n",
              " 'tropical',\n",
              " 'türk',\n",
              " 'türkçe',\n",
              " 'unknown',\n",
              " 'urban',\n",
              " 'uzbek',\n",
              " 'variété',\n",
              " 'vi',\n",
              " 'videogame',\n",
              " 'vocal',\n",
              " 'western',\n",
              " 'world',\n",
              " 'worldbeat',\n",
              " 'ïîï']"
            ]
          },
          "metadata": {},
          "execution_count": 19
        }
      ],
      "source": [
        "# Comprueba de nuevo los duplicados implícitos\n",
        "sorted(df[\"genre\"].unique())\n",
        "\n"
      ]
    },
    {
      "cell_type": "markdown",
      "metadata": {
        "id": "ALgNbvF3VtPA"
      },
      "source": [
        "[Volver a Contenidos](#back)"
      ]
    },
    {
      "cell_type": "markdown",
      "metadata": {
        "id": "jz6a9-7HQUDd"
      },
      "source": [
        "### Observaciones <a id='data_preprocessing_conclusions'></a>\n",
        "\n",
        "`Redacta un breve resumen de lo que descubriste al analizar los datos. Tu respuesta debe identificar los problemas detectados, explicar cómo los resolviste y describir cómo esas acciones mejoran la calidad del análisis.`"
      ]
    },
    {
      "cell_type": "markdown",
      "metadata": {
        "id": "lN8zFHxhAF5O"
      },
      "source": [
        "Etapa 2.14. Descríbelo aquí.\n",
        " #----->>> REVISAR\n",
        "  \n",
        "Resumen del análisis y limpieza de datos\n",
        "\n",
        "Durante el proceso de análisis inicial, se detectaron varios problemas que podrían afectar la calidad y precisión del análisis posterior. Entre ellos, se identificaron:\n",
        "\n",
        "Duplicados y valores ausentes, que pueden distorsionar resultados y sesgar interpretaciones.\n",
        "\n",
        "Inconsistencias en las categorías, con valores repetidos por ambigüedad o diferencias en mayúsculas/minúsculas.\n",
        "\n",
        "Espacios en blanco al inicio o final en nombres de columnas, que afectan la correcta manipulación y filtrado.\n",
        "\n",
        "Nombres de columnas en formatos poco estandarizados, dificultando la legibilidad y el manejo automatizado.\n",
        "\n",
        "Para resolver estas cuestiones, se aplicaron las siguientes acciones:\n",
        "\n",
        "Se convirtieron todos los encabezados a minúsculas (lower case) para homogeneizar categorías y evitar duplicados invisibles.\n",
        "\n",
        "Se eliminaron filas duplicadas y se rellenaron valores ausentes de manera adecuada para mantener la integridad del conjunto de datos.\n",
        "\n",
        "Se verificó la unicidad y coherencia de las categorías únicas para evitar ambigüedades.\n",
        "\n",
        "Se eliminaron espacios en blanco superfluos en columnas y datos para asegurar la consistencia en los filtros y comparaciones.\n",
        "\n",
        "Se renombraron las columnas al formato snake_case para mejorar la claridad, uniformidad y facilitar la escritura del código.\n",
        "\n",
        "Estas acciones mejoran significativamente la calidad del análisis al asegurar que los datos estén limpios, homogéneos y estructurados de manera óptima, reduciendo errores y facilitando la interpretación y generación de insights confiables."
      ]
    },
    {
      "cell_type": "markdown",
      "metadata": {
        "id": "eK1es74rVujj"
      },
      "source": [
        "[Volver a Contenidos](#back)"
      ]
    },
    {
      "cell_type": "markdown",
      "metadata": {
        "id": "WttZHXH0SqKk"
      },
      "source": [
        "## Etapa 3. Prueba de la hipótesis <a id='hypothesis'></a>"
      ]
    },
    {
      "cell_type": "markdown",
      "metadata": {
        "id": "Im936VVi_Zcu"
      },
      "source": [
        "### Tarea: Comparar el comportamiento de los usuarios en las dos ciudades <a id='activity'></a>"
      ]
    },
    {
      "cell_type": "markdown",
      "metadata": {
        "id": "nwt_MuaL_Zcu"
      },
      "source": [
        "La hipótesis que queremos probar plantea que existen diferencias en la forma en que los usuarios de Springfield y Shelbyville consumen música.\n",
        "Para analizar esto, nos enfocaremos en los datos correspondientes a tres días específicos de la semana: lunes, miércoles y viernes."
      ]
    },
    {
      "cell_type": "markdown",
      "metadata": {
        "id": "8Dw_YMmT_Zcu"
      },
      "source": [
        "El análisis consistirá en comparar la cantidad de canciones reproducidas por los usuarios de cada ciudad en esos días. Esto nos permitirá observar posibles patrones o diferencias en los hábitos de consumo entre Springfield y Shelbyville.\n",
        "\n",
        "Para llevar a cabo este análisis, es importante seguir el enfoque de dividir-aplicar-combinar, del que ya hablamos en la lección. En este caso:\n",
        "\n",
        "*  Dividir: separamos los datos en grupos según la ciudad.\n",
        "\n",
        "*  Aplicar: dentro de cada grupo, contamos cuántas canciones se reprodujeron.\n",
        "\n",
        "*  Combinar: reunimos los resultados en una estructura que nos permita comparar fácilmente ambas ciudades."
      ]
    },
    {
      "cell_type": "markdown",
      "metadata": {
        "id": "c0MoTnZcB-hW"
      },
      "source": [
        "Este procedimiento debe repetirse de forma independiente para cada uno de los tres días seleccionados. El resultado final debe mostrar el número de reproducciones por ciudad en cada uno de esos días.\n",
        "\n",
        "Una posible forma de estructurar el código sería con la siguiente expresión:\n",
        "\n",
        "`df.groupby(by='...')['...'].method()`\n",
        "\n",
        "Deberás completar los argumentos correspondientes para agrupar por ciudad y contar las canciones reproducidas. Este enfoque te dará una visión clara y comparativa del comportamiento de los usuarios en ambas ciudades."
      ]
    },
    {
      "cell_type": "markdown",
      "metadata": {
        "id": "dgMGeLF2CMJv"
      },
      "source": [
        "Etapa 3.1. Cuenta cuántas canciones se reprodujeron en cada ciudad utilizando la columna 'track' como referencia."
      ]
    },
    {
      "cell_type": "code",
      "execution_count": 20,
      "metadata": {
        "id": "0_Qs96oh_Zcu",
        "colab": {
          "base_uri": "https://localhost:8080/",
          "height": 213
        },
        "outputId": "88f3d89b-a292-41a9-e9ec-f7a7bde54ce7"
      },
      "outputs": [
        {
          "output_type": "stream",
          "name": "stdout",
          "text": [
            " Shelbyville: 18512 \n",
            " Springfield: 42741\n"
          ]
        },
        {
          "output_type": "execute_result",
          "data": {
            "text/plain": [
              "city\n",
              "Shelbyville    18512\n",
              "Springfield    42741\n",
              "Name: track, dtype: int64"
            ],
            "text/html": [
              "<div>\n",
              "<style scoped>\n",
              "    .dataframe tbody tr th:only-of-type {\n",
              "        vertical-align: middle;\n",
              "    }\n",
              "\n",
              "    .dataframe tbody tr th {\n",
              "        vertical-align: top;\n",
              "    }\n",
              "\n",
              "    .dataframe thead th {\n",
              "        text-align: right;\n",
              "    }\n",
              "</style>\n",
              "<table border=\"1\" class=\"dataframe\">\n",
              "  <thead>\n",
              "    <tr style=\"text-align: right;\">\n",
              "      <th></th>\n",
              "      <th>track</th>\n",
              "    </tr>\n",
              "    <tr>\n",
              "      <th>city</th>\n",
              "      <th></th>\n",
              "    </tr>\n",
              "  </thead>\n",
              "  <tbody>\n",
              "    <tr>\n",
              "      <th>Shelbyville</th>\n",
              "      <td>18512</td>\n",
              "    </tr>\n",
              "    <tr>\n",
              "      <th>Springfield</th>\n",
              "      <td>42741</td>\n",
              "    </tr>\n",
              "  </tbody>\n",
              "</table>\n",
              "</div><br><label><b>dtype:</b> int64</label>"
            ]
          },
          "metadata": {},
          "execution_count": 20
        }
      ],
      "source": [
        "# Cuenta las canciones reproducidas en cada ciudad usando la división, aplicación y combinación\n",
        "\n",
        "shelbyville = df[df[\"city\"] == \"Shelbyville\"][\"track\"].count()\n",
        "springfield = df[df[\"city\"] == \"Springfield\"][\"track\"].count()\n",
        "\n",
        "print(f\" Shelbyville: {shelbyville} \\n Springfield: {springfield}\")\n",
        "\n",
        "# Cuenta las canciones reproducidas en cada ciudad usando la función groupby\n",
        "df.groupby(\"city\")[\"track\"].count()"
      ]
    },
    {
      "cell_type": "markdown",
      "metadata": {
        "id": "cC2tNrlL_Zcu"
      },
      "source": [
        "`Redacta brevemente tus observaciones sobre los resultados. ¿Qué diferencias notaste entre Springfield y Shelbyville? ¿A qué podrían deberse esas diferencias?`"
      ]
    },
    {
      "cell_type": "markdown",
      "metadata": {
        "id": "Kjb4vX38DC3I"
      },
      "source": [
        "Etapa 3.2. Escribe tus observaciones aquí.\n",
        "\n",
        "Los datos muestran una diferencia notable en la cantidad de reproducciones entre Springfield (42,741) y Shelbyville (18,512). Esta diferencia podría explicarse por varios factores. En primer lugar, Springfield podría tener una población mayor, lo que naturalmente implicaría un mayor volumen de usuarios y, por ende, más reproducciones. También podría influir el perfil demográfico o cultural de cada ciudad; por ejemplo, Springfield podría contar con una población más joven o con mayor acceso a tecnología y plataformas de música digital. Finalmente, también puede haber factores locales como eventos, campañas publicitarias o presencia de artistas locales que hayan impulsado la actividad musical en esa ciudad."
      ]
    },
    {
      "cell_type": "markdown",
      "metadata": {
        "id": "dzli3w8o_Zcu"
      },
      "source": [
        "Etapa 3.3.\n",
        "1. Agrupa los datos por día de la semana y cuenta cuántas canciones se reprodujeron los lunes, miércoles y viernes.\n",
        "\n",
        "2. Utiliza el mismo método de conteo que antes, pero ahora cambia la columna de agrupación para enfocarte en el día.\n",
        "\n",
        "3. Esto te permitirá identificar posibles patrones de escucha según el día de la semana.\n"
      ]
    },
    {
      "cell_type": "code",
      "execution_count": 21,
      "metadata": {
        "id": "uZMKjiJz_Zcu",
        "colab": {
          "base_uri": "https://localhost:8080/",
          "height": 262
        },
        "outputId": "08d3108c-3965-4062-d87f-e949b4d3fabd"
      },
      "outputs": [
        {
          "output_type": "stream",
          "name": "stdout",
          "text": [
            " lunes: 21840 \n",
            " miercoles: 21354 \n",
            " viernes: 18059\n"
          ]
        },
        {
          "output_type": "execute_result",
          "data": {
            "text/plain": [
              "day\n",
              "Friday       21840\n",
              "Monday       21354\n",
              "Wednesday    18059\n",
              "Name: day, dtype: int64"
            ],
            "text/html": [
              "<div>\n",
              "<style scoped>\n",
              "    .dataframe tbody tr th:only-of-type {\n",
              "        vertical-align: middle;\n",
              "    }\n",
              "\n",
              "    .dataframe tbody tr th {\n",
              "        vertical-align: top;\n",
              "    }\n",
              "\n",
              "    .dataframe thead th {\n",
              "        text-align: right;\n",
              "    }\n",
              "</style>\n",
              "<table border=\"1\" class=\"dataframe\">\n",
              "  <thead>\n",
              "    <tr style=\"text-align: right;\">\n",
              "      <th></th>\n",
              "      <th>day</th>\n",
              "    </tr>\n",
              "    <tr>\n",
              "      <th>day</th>\n",
              "      <th></th>\n",
              "    </tr>\n",
              "  </thead>\n",
              "  <tbody>\n",
              "    <tr>\n",
              "      <th>Friday</th>\n",
              "      <td>21840</td>\n",
              "    </tr>\n",
              "    <tr>\n",
              "      <th>Monday</th>\n",
              "      <td>21354</td>\n",
              "    </tr>\n",
              "    <tr>\n",
              "      <th>Wednesday</th>\n",
              "      <td>18059</td>\n",
              "    </tr>\n",
              "  </tbody>\n",
              "</table>\n",
              "</div><br><label><b>dtype:</b> int64</label>"
            ]
          },
          "metadata": {},
          "execution_count": 21
        }
      ],
      "source": [
        "# Calcula las canciones reproducidas en cada uno de los tres días usando la división, aplicación y combinación\n",
        "\n",
        "\n",
        "lunes = df[df[\"day\"] == \"Friday\"][\"day\"].count()\n",
        "miercoles = df[df[\"day\"] == \"Monday\"][\"day\"].count()\n",
        "viernes = df[df[\"day\"] == \"Wednesday\"][\"day\"].count()\n",
        "\n",
        "print(f\" lunes: {lunes} \\n miercoles: {miercoles} \\n viernes: {viernes}\")\n",
        "\n",
        "# Calcula las canciones reproducidas en cada uno de los tres días usando  la función groupby\n",
        "df.groupby(\"day\")[\"day\"].count()"
      ]
    },
    {
      "cell_type": "markdown",
      "metadata": {
        "id": "t_Qx-3NewAnK"
      },
      "source": [
        "`Describe brevemente qué observaste al comparar los lunes, miércoles y viernes. ¿Hubo algún día con menos actividad? ¿Cambian las conclusiones si analizas cada ciudad por separado?`"
      ]
    },
    {
      "cell_type": "markdown",
      "metadata": {
        "id": "q537Zl8oDNfH"
      },
      "source": [
        "Etapa 3.4. Escribe tus observaciones aquí.\n",
        "\n",
        "Al comparar los datos por día, se observa que el viernes registró la mayor cantidad de reproducciones (21,840), seguido de cerca por el lunes (21,354), mientras que el miércoles mostró una disminución notable (18,059). Esto sugiere un patrón donde la actividad musical tiende a ser más alta a inicios y fines de la semana laboral, posiblemente por cambios en los hábitos de las personas: el lunes puede representar un inicio de semana acompañado de música para motivarse, mientras que el viernes refleja un ambiente más relajado o festivo. En contraste, el miércoles, como día medio, podría asociarse con menor tiempo libre o menos disposición para consumir música.\n",
        "\n",
        "Si analizamos los datos por ciudad, las conclusiones podrían variar. Por ejemplo, una ciudad con mayor población estudiantil o con fuerte vida nocturna podría mostrar picos diferentes, por lo que sería útil desglosar por ciudad para identificar patrones locales más específicos."
      ]
    },
    {
      "cell_type": "markdown",
      "metadata": {
        "id": "POzs8bGa_Zcu"
      },
      "source": [
        "Hasta ahora has aprendido a contar entradas agrupándolas por un solo criterio, como la ciudad o el día de la semana. Ahora vamos a dar un paso más: necesitas crear una función que **cuente cuántas canciones se reprodujeron en una ciudad específica durante un día determinado**, combinando ambos criterios de filtrado.\n",
        "\n",
        "La función se llamará `number_tracks()` y debe aceptar dos parámetros:\n",
        "\n",
        "- `day`: un día de la semana (por ejemplo, `'Monday'`).\n",
        "- `city`: el nombre de una ciudad (por ejemplo, `'Springfield'`).\n",
        "\n",
        "Dentro de la función, deberás aplicar un **filtrado secuencial mediante indexación lógica**: primero tendrás que filtrar el DataFrame por el día, y luego por la ciudad. Una vez que tengas el subconjunto de datos correcto, debes contar cuántas veces aparece un valor en la columna `'user_id'`. Ese número representará el total de canciones reproducidas bajo esos dos criterios.\n",
        "\n"
      ]
    },
    {
      "cell_type": "markdown",
      "metadata": {
        "id": "itD2P5lhEpuX"
      },
      "source": [
        "Etapa 3.5.\n",
        "1. Declara una función llamada `number_tracks()` con dos parámetros: `day` y `city`.\n",
        "\n",
        "2. Filtra el DataFrame para conservar solo las filas donde la columna `'day'` sea igual al valor del parámetro `day`.\n",
        "\n",
        "3. A partir del resultado anterior, filtra nuevamente para conservar solo las filas donde la columna `'city'` sea igual al valor del parámetro `city`.\n",
        "\n",
        "4. Extrae la columna `'user_id'` del DataFrame filtrado y utiliza el método `.count()` para contar el número de entradas.\n",
        "\n",
        "5. Guarda ese valor en una variable y **devuélvelo** como resultado de la función.\n"
      ]
    },
    {
      "cell_type": "code",
      "source": [
        "df_filtrado = df[df[\"day\"] == \"Wednesday\"]\n",
        "df_filtrado= df_filtrado[df_filtrado[\"city\"] == \"Springfield\"]\n",
        "df_filtrado[\"user_id\"].count()\n",
        "\n"
      ],
      "metadata": {
        "colab": {
          "base_uri": "https://localhost:8080/"
        },
        "id": "jvKQTWWiZJGo",
        "outputId": "a61f2ce3-bb3d-45c0-c3ec-6b134f6d0093"
      },
      "execution_count": 22,
      "outputs": [
        {
          "output_type": "execute_result",
          "data": {
            "text/plain": [
              "np.int64(11056)"
            ]
          },
          "metadata": {},
          "execution_count": 22
        }
      ]
    },
    {
      "cell_type": "code",
      "execution_count": 23,
      "metadata": {
        "id": "Nz3GdQB1_Zcu"
      },
      "outputs": [],
      "source": [
        "# Declara la función number_tracks() con dos parámetros: day= y city=.\n",
        "def number_tracks(day, city):\n",
        "    # Almacena las filas del DataFrame donde el valor en la columna 'day' es igual al parámetro day=\n",
        "    df_filtrado = df[df[\"day\"] == day]\n",
        "    # Filtra las filas donde el valor en la columna 'city' es igual al parámetro city=\n",
        "    df_filtrado = df_filtrado[df_filtrado[\"city\"] == city]\n",
        "    # Extrae la columna 'user_id' de la tabla filtrada y aplica el método count()\n",
        "    number_per_userid = df_filtrado[\"user_id\"].count()\n",
        "    # Devuelve el número de valores de la columna 'user_id'\n",
        "    return number_per_userid"
      ]
    },
    {
      "cell_type": "markdown",
      "metadata": {
        "id": "ytf7xFrFJQ2r"
      },
      "source": [
        "Etapa 3.6. Llama a `number_tracks()` seis veces, cambiando los valores de los parámetros para que puedas recuperar los datos de ambas ciudades para cada uno de los tres días."
      ]
    },
    {
      "cell_type": "code",
      "execution_count": 24,
      "metadata": {
        "id": "rJcRATNQ_Zcu",
        "colab": {
          "base_uri": "https://localhost:8080/"
        },
        "outputId": "ffa04af3-7393-407c-dd8c-60244a69e366"
      },
      "outputs": [
        {
          "output_type": "execute_result",
          "data": {
            "text/plain": [
              "np.int64(15740)"
            ]
          },
          "metadata": {},
          "execution_count": 24
        }
      ],
      "source": [
        "# El número de canciones reproducidas en Springfield el lunes\n",
        "number_tracks(\"Monday\", \"Springfield\")"
      ]
    },
    {
      "cell_type": "code",
      "execution_count": 25,
      "metadata": {
        "id": "hq_ncZ5T_Zcu",
        "colab": {
          "base_uri": "https://localhost:8080/"
        },
        "outputId": "aa580e44-5a0c-4f58-f562-33e387ea8cd9"
      },
      "outputs": [
        {
          "output_type": "execute_result",
          "data": {
            "text/plain": [
              "np.int64(5614)"
            ]
          },
          "metadata": {},
          "execution_count": 25
        }
      ],
      "source": [
        "# El número de canciones reproducidas en Shelbyville el lunes\n",
        "number_tracks(\"Monday\", \"Shelbyville\")"
      ]
    },
    {
      "cell_type": "code",
      "execution_count": 26,
      "metadata": {
        "id": "_NTy2VPU_Zcu",
        "colab": {
          "base_uri": "https://localhost:8080/"
        },
        "outputId": "253c4106-1314-425f-83b3-8d87e9bc39f2"
      },
      "outputs": [
        {
          "output_type": "execute_result",
          "data": {
            "text/plain": [
              "np.int64(11056)"
            ]
          },
          "metadata": {},
          "execution_count": 26
        }
      ],
      "source": [
        "# El número de canciones reproducidas en Springfield el miércoles\n",
        "number_tracks(\"Wednesday\", \"Springfield\")"
      ]
    },
    {
      "cell_type": "code",
      "execution_count": 27,
      "metadata": {
        "id": "j2y3TAwo_Zcu",
        "colab": {
          "base_uri": "https://localhost:8080/"
        },
        "outputId": "3120d7cc-b0ca-4a2b-e67b-f7cb9f0630e6"
      },
      "outputs": [
        {
          "output_type": "execute_result",
          "data": {
            "text/plain": [
              "np.int64(7003)"
            ]
          },
          "metadata": {},
          "execution_count": 27
        }
      ],
      "source": [
        "# El número de canciones reproducidas en Shelbyville el miércoles\n",
        "number_tracks(\"Wednesday\", \"Shelbyville\")"
      ]
    },
    {
      "cell_type": "code",
      "execution_count": 28,
      "metadata": {
        "id": "vYDw5u_K_Zcu",
        "colab": {
          "base_uri": "https://localhost:8080/"
        },
        "outputId": "01d952dc-e65e-407b-ecee-5b9234e9f125"
      },
      "outputs": [
        {
          "output_type": "execute_result",
          "data": {
            "text/plain": [
              "np.int64(15945)"
            ]
          },
          "metadata": {},
          "execution_count": 28
        }
      ],
      "source": [
        "# El número de canciones reproducidas en Springfield el viernes\n",
        "number_tracks(\"Friday\", \"Springfield\")"
      ]
    },
    {
      "cell_type": "code",
      "execution_count": 29,
      "metadata": {
        "id": "8_yzFtW3_Zcu",
        "colab": {
          "base_uri": "https://localhost:8080/"
        },
        "outputId": "3b251348-efdd-4007-e7cf-11fe6218c30e"
      },
      "outputs": [
        {
          "output_type": "execute_result",
          "data": {
            "text/plain": [
              "np.int64(5895)"
            ]
          },
          "metadata": {},
          "execution_count": 29
        }
      ],
      "source": [
        "# El número de canciones reproducidas en Shelbyville el viernes\n",
        "number_tracks(\"Friday\", \"Shelbyville\")"
      ]
    },
    {
      "cell_type": "markdown",
      "metadata": {
        "id": "p7nFQajCVw5B"
      },
      "source": [
        "[Volver a Contenidos](#back)"
      ]
    },
    {
      "cell_type": "markdown",
      "metadata": {
        "id": "ykKQ0N65_Zcv"
      },
      "source": [
        "# Conclusiones <a id='end'></a>"
      ]
    },
    {
      "cell_type": "markdown",
      "metadata": {
        "id": "tjUwbHb3_Zcv"
      },
      "source": [
        "##Escribe tus conclusiones finales sobre la hipótesis.\n",
        " * ¿Los datos apoyan la idea de que el comportamiento de los usuarios respecto a la música que escuchan varía según la ciudad y el día de la semana?\n",
        " * Indica si la hipótesis debe aceptarse o rechazarse, y justifica tu respuesta con base en los resultados obtenidos."
      ]
    },
    {
      "cell_type": "markdown",
      "metadata": {
        "id": "piRc-ATKFwZ3"
      },
      "source": [
        "Etapa 4. Detalla aquí tus conclusiones.\n",
        "\n",
        "- Los datos analizados apoyan la idea de que el comportamiento musical de los usuarios no es uniforme, sino que varía según la ciudad y el día de la semana. Springfield, por ejemplo, muestra una cantidad de reproducciones significativamente mayor que Shelbyville, lo cual puede deberse a diferencias en tamaño poblacional, perfil demográfico o acceso a tecnología. Además, al observar los días de la semana, se evidencia que viernes y lunes tienen mayor actividad musical en comparación con el miércoles, lo que sugiere una influencia de los hábitos semanales y el estado de ánimo asociado a cada jornada. Estas variaciones indican que tanto el contexto geográfico como el calendario influyen directamente en el consumo de música en la plataforma.\n",
        "\n",
        "- La hipótesis debe aceptarse, ya que los datos muestran diferencias claras en el comportamiento de los usuarios según la ciudad y el día de la semana. En términos geográficos, Springfield registra más del doble de reproducciones que Shelbyville, lo que indica que la ubicación influye directamente en el nivel de consumo musical. Por otro lado, al analizar los días de la semana, se observan variaciones significativas, con mayor actividad los viernes y lunes, y una baja notable los miércoles. Estas diferencias respaldan la hipótesis de que el comportamiento musical varía en función tanto del lugar como del momento, probablemente por factores sociales, culturales y de rutina diaria."
      ]
    },
    {
      "cell_type": "markdown",
      "metadata": {
        "id": "azLHu64yOIp7"
      },
      "source": [
        "### Nota\n",
        "En los proyectos de investigación reales, la prueba de hipótesis estadística es más precisa y cuantitativa. También ten en cuenta que no siempre se pueden sacar conclusiones sobre una ciudad entera a partir de datos de una sola fuente.\n",
        "\n",
        "Aprenderás más sobre la prueba de hipótesis en el sprint de análisis estadístico de datos."
      ]
    },
    {
      "cell_type": "markdown",
      "metadata": {
        "id": "Ju4AHDSgV1FE"
      },
      "source": [
        "[Volver a Contenidos](#back)"
      ]
    }
  ],
  "metadata": {
    "colab": {
      "collapsed_sections": [
        "E0vqbgi9ay0H",
        "VUC88oWjTJw2"
      ],
      "provenance": [],
      "include_colab_link": true
    },
    "kernelspec": {
      "display_name": "Python 3 (ipykernel)",
      "language": "python",
      "name": "python3"
    },
    "language_info": {
      "codemirror_mode": {
        "name": "ipython",
        "version": 3
      },
      "file_extension": ".py",
      "mimetype": "text/x-python",
      "name": "python",
      "nbconvert_exporter": "python",
      "pygments_lexer": "ipython3",
      "version": "3.9.22"
    },
    "toc": {
      "base_numbering": 1,
      "nav_menu": {},
      "number_sections": true,
      "sideBar": true,
      "skip_h1_title": true,
      "title_cell": "Table of Contents",
      "title_sidebar": "Contents",
      "toc_cell": false,
      "toc_position": {},
      "toc_section_display": true,
      "toc_window_display": false
    }
  },
  "nbformat": 4,
  "nbformat_minor": 0
}